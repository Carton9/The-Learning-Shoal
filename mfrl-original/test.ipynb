{
 "cells": [
  {
   "cell_type": "code",
   "execution_count": 1,
   "metadata": {},
   "outputs": [],
   "source": [
    "from magent2.environments import battle_v4, adversarial_pursuit_v4\n",
    "from pettingzoo.utils import random_demo"
   ]
  },
  {
   "cell_type": "code",
   "execution_count": 2,
   "metadata": {},
   "outputs": [
    {
     "name": "stderr",
     "output_type": "stream",
     "text": [
      "c:\\Users\\Scott\\a3\\lib\\site-packages\\magent2\\render.py:279: RuntimeWarning: overflow encountered in long_scalars\n",
      "  event_x * grid_size - view_position[0] + grid_size / 2,\n",
      "c:\\Users\\Scott\\a3\\lib\\site-packages\\magent2\\render.py:280: RuntimeWarning: overflow encountered in long_scalars\n",
      "  event_y * grid_size - view_position[1] + grid_size / 2,\n",
      "c:\\Users\\Scott\\a3\\lib\\site-packages\\magent2\\render.py:287: RuntimeWarning: overflow encountered in long_scalars\n",
      "  event_x * grid_size\n",
      "c:\\Users\\Scott\\a3\\lib\\site-packages\\magent2\\render.py:291: RuntimeWarning: overflow encountered in long_scalars\n",
      "  event_y * grid_size\n"
     ]
    },
    {
     "name": "stdout",
     "output_type": "stream",
     "text": [
      "Average total reward -614.100008033216\n"
     ]
    },
    {
     "data": {
      "text/plain": [
       "-1228.200016066432"
      ]
     },
     "execution_count": 2,
     "metadata": {},
     "output_type": "execute_result"
    }
   ],
   "source": [
    "# env = battle_v4.env(render_mode='human',max_cycles=5)\n",
    "env = adversarial_pursuit_v4.env(render_mode='human',max_cycles=200)\n",
    "random_demo(env, render=True, episodes=2)"
   ]
  },
  {
   "cell_type": "code",
   "execution_count": null,
   "metadata": {},
   "outputs": [],
   "source": []
  }
 ],
 "metadata": {
  "kernelspec": {
   "display_name": "base",
   "language": "python",
   "name": "python3"
  },
  "language_info": {
   "codemirror_mode": {
    "name": "ipython",
    "version": 3
   },
   "file_extension": ".py",
   "mimetype": "text/x-python",
   "name": "python",
   "nbconvert_exporter": "python",
   "pygments_lexer": "ipython3",
   "version": "3.9.13"
  },
  "orig_nbformat": 4
 },
 "nbformat": 4,
 "nbformat_minor": 2
}
