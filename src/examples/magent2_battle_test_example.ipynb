{
 "cells": [
  {
   "cell_type": "code",
   "execution_count": 1,
   "metadata": {},
   "outputs": [],
   "source": [
    "import numpy as np\n",
    "import torch\n",
    "import torch.nn as nn\n",
    "import torch.optim as optim\n",
    "from supersuit import color_reduction_v0, frame_stack_v1, resize_v1\n",
    "from torch.distributions.categorical import Categorical\n",
    "\n",
    "from magent2.environments import battle_v4,adversarial_pursuit_v4\n",
    "from pettingzoo.utils import random_demo\n",
    "\n",
    "# env = battle_v4.env(render_mode='human',max_cycles=5)\n",
    "env = adversarial_pursuit_v4.env(render_mode='human',max_cycles=200)"
   ]
  },
  {
   "cell_type": "code",
   "execution_count": null,
   "metadata": {},
   "outputs": [],
   "source": []
  }
 ],
 "metadata": {
  "kernelspec": {
   "display_name": "base",
   "language": "python",
   "name": "python3"
  },
  "language_info": {
   "codemirror_mode": {
    "name": "ipython",
    "version": 3
   },
   "file_extension": ".py",
   "mimetype": "text/x-python",
   "name": "python",
   "nbconvert_exporter": "python",
   "pygments_lexer": "ipython3",
   "version": "3.9.13"
  },
  "orig_nbformat": 4
 },
 "nbformat": 4,
 "nbformat_minor": 2
}
