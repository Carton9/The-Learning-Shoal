{
 "cells": [
  {
   "cell_type": "code",
   "execution_count": 24,
   "metadata": {},
   "outputs": [],
   "source": [
    "from magent2.environments import battle_v4, adversarial_pursuit_v4, tiger_deer_v4\n",
    "import sys, os\n",
    "from pettingzoo.utils import random_demo\n",
    "import pygame\n",
    "import torch\n",
    "import time"
   ]
  },
  {
   "cell_type": "code",
   "execution_count": 25,
   "metadata": {},
   "outputs": [],
   "source": [
    "device = torch.device(\"cuda\" if torch.cuda.is_available() else \"cpu\")\n",
    "ent_coef = 0.1\n",
    "vf_coef = 0.1\n",
    "clip_coef = 0.1\n",
    "gamma = 0.99\n",
    "batch_size = 32\n",
    "stack_size = 4\n",
    "frame_size = (128, 128)\n",
    "max_cycles = 30\n",
    "total_episodes = 100"
   ]
  },
  {
   "cell_type": "code",
   "execution_count": 26,
   "metadata": {},
   "outputs": [],
   "source": [
    "env = tiger_deer_v4.env(map_size=30, minimap_mode=False, render_mode='human', tiger_step_recover=-0.1, deer_attacked=-0.1, max_cycles=max_cycles, extra_features=False)\n",
    "# random_demo(env, render=False , episodes=1)\n",
    "# pygame.quit()"
   ]
  },
  {
   "cell_type": "code",
   "execution_count": 27,
   "metadata": {},
   "outputs": [],
   "source": [
    "def deer_policy(observation, agent):\n",
    "    # print(type(observation))\n",
    "    \n",
    "    # 0 - up\n",
    "    # 1 - left\n",
    "    # 2 - stay still/  nothing\n",
    "    # 3 - right\n",
    "    # 4 - down\n",
    "    return 4"
   ]
  },
  {
   "cell_type": "code",
   "execution_count": 28,
   "metadata": {},
   "outputs": [],
   "source": [
    "def tiger_policy(observation, agent):\n",
    "    # print(observation)\n",
    "    # 0 - up\n",
    "    # 1 - left\n",
    "    # 2 - stay still/  nothing\n",
    "    # 3 - right\n",
    "    # 4 - down\n",
    "    # 5 - attack up\n",
    "    # 6 - attack left\n",
    "    # 7 - attack right\n",
    "    # 8 - attack down\n",
    "    return 5"
   ]
  },
  {
   "cell_type": "code",
   "execution_count": 29,
   "metadata": {},
   "outputs": [
    {
     "name": "stdout",
     "output_type": "stream",
     "text": [
      "0\n",
      "1\n"
     ]
    }
   ],
   "source": [
    "for episodes in range(total_episodes):\n",
    "    env.reset(seed=None)\n",
    "    print(episodes)\n",
    "    for agent in env.agent_iter():\n",
    "        observation, reward, termination, truncation, info = env.last()\n",
    "        if not termination and not truncation:\n",
    "            # if the agent is not dead\n",
    "            if \"tiger\" in agent:\n",
    "                action =  tiger_policy(observation, agent)\n",
    "            else:\n",
    "                # if step > 10:\n",
    "                #     print(observation[:,:,0])\n",
    "                action = deer_policy(observation, agent)\n",
    "        else:\n",
    "            # if agent is dead\n",
    "            action = None\n",
    "        env.step(action)     \n",
    "env.close()"
   ]
  },
  {
   "cell_type": "code",
   "execution_count": 30,
   "metadata": {},
   "outputs": [
    {
     "name": "stdout",
     "output_type": "stream",
     "text": [
      "<bound method BaseWrapper.action_space of <pettingzoo.utils.wrappers.order_enforcing.OrderEnforcingWrapper object at 0x00000261AE9C8D90>>\n",
      "<class 'pettingzoo.utils.wrappers.order_enforcing.OrderEnforcingWrapper'>\n",
      "0\n",
      "['deer_0', 'deer_1', 'deer_2', 'deer_3', 'deer_4', 'deer_5', 'deer_6', 'deer_7', 'deer_8', 'deer_9', 'deer_10', 'deer_11', 'deer_12', 'deer_13', 'deer_14', 'deer_15', 'deer_16', 'deer_17', 'deer_18', 'deer_19', 'deer_20', 'deer_21', 'deer_22', 'deer_23', 'deer_24', 'deer_25', 'deer_26', 'deer_27', 'deer_28', 'deer_29', 'deer_30', 'deer_31', 'deer_32', 'deer_33', 'deer_34', 'deer_35', 'deer_36', 'deer_37', 'deer_38', 'deer_39', 'deer_40', 'deer_41', 'deer_42', 'deer_43', 'deer_44', 'tiger_0', 'tiger_1', 'tiger_2', 'tiger_3', 'tiger_4', 'tiger_5', 'tiger_6', 'tiger_7', 'tiger_8']\n",
      "{'deer_0': Discrete(5), 'deer_1': Discrete(5), 'deer_2': Discrete(5), 'deer_3': Discrete(5), 'deer_4': Discrete(5), 'deer_5': Discrete(5), 'deer_6': Discrete(5), 'deer_7': Discrete(5), 'deer_8': Discrete(5), 'deer_9': Discrete(5), 'deer_10': Discrete(5), 'deer_11': Discrete(5), 'deer_12': Discrete(5), 'deer_13': Discrete(5), 'deer_14': Discrete(5), 'deer_15': Discrete(5), 'deer_16': Discrete(5), 'deer_17': Discrete(5), 'deer_18': Discrete(5), 'deer_19': Discrete(5), 'deer_20': Discrete(5), 'deer_21': Discrete(5), 'deer_22': Discrete(5), 'deer_23': Discrete(5), 'deer_24': Discrete(5), 'deer_25': Discrete(5), 'deer_26': Discrete(5), 'deer_27': Discrete(5), 'deer_28': Discrete(5), 'deer_29': Discrete(5), 'deer_30': Discrete(5), 'deer_31': Discrete(5), 'deer_32': Discrete(5), 'deer_33': Discrete(5), 'deer_34': Discrete(5), 'deer_35': Discrete(5), 'deer_36': Discrete(5), 'deer_37': Discrete(5), 'deer_38': Discrete(5), 'deer_39': Discrete(5), 'deer_40': Discrete(5), 'deer_41': Discrete(5), 'deer_42': Discrete(5), 'deer_43': Discrete(5), 'deer_44': Discrete(5), 'tiger_0': Discrete(9), 'tiger_1': Discrete(9), 'tiger_2': Discrete(9), 'tiger_3': Discrete(9), 'tiger_4': Discrete(9), 'tiger_5': Discrete(9), 'tiger_6': Discrete(9), 'tiger_7': Discrete(9), 'tiger_8': Discrete(9)}\n"
     ]
    }
   ],
   "source": [
    "print(env.action_space)\n",
    "print(type(env))\n",
    "print(env.num_agents)\n",
    "print(env.possible_agents)\n",
    "print(env.action_spaces)"
   ]
  },
  {
   "cell_type": "code",
   "execution_count": null,
   "metadata": {},
   "outputs": [],
   "source": []
  }
 ],
 "metadata": {
  "kernelspec": {
   "display_name": "base",
   "language": "python",
   "name": "python3"
  },
  "language_info": {
   "codemirror_mode": {
    "name": "ipython",
    "version": 3
   },
   "file_extension": ".py",
   "mimetype": "text/x-python",
   "name": "python",
   "nbconvert_exporter": "python",
   "pygments_lexer": "ipython3",
   "version": "3.9.13"
  },
  "orig_nbformat": 4
 },
 "nbformat": 4,
 "nbformat_minor": 2
}
