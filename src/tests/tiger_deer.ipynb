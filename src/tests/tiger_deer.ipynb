{
 "cells": [
  {
   "cell_type": "code",
   "execution_count": 1,
   "metadata": {},
   "outputs": [],
   "source": [
    "from magent2.environments import battle_v4, adversarial_pursuit_v4, tiger_deer_v4\n",
    "import sys, os\n",
    "from pettingzoo.utils import random_demo\n",
    "import pygame\n",
    "import torch\n",
    "import time\n",
    "import torch\n",
    "import torch.nn as nn\n",
    "import torch.optim as optim\n",
    "import torch.nn.functional as F"
   ]
  },
  {
   "cell_type": "code",
   "execution_count": 2,
   "metadata": {},
   "outputs": [
    {
     "name": "stdout",
     "output_type": "stream",
     "text": [
      "cuda\n"
     ]
    }
   ],
   "source": [
    "device = torch.device(\"cuda\" if torch.cuda.is_available() else \"cpu\")\n",
    "print(device)\n",
    "ent_coef = 0.1\n",
    "vf_coef = 0.1\n",
    "clip_coef = 0.1\n",
    "gamma = 0.99\n",
    "batch_size = 32\n",
    "stack_size = 4\n",
    "frame_size = (128, 128)\n",
    "max_cycles = 30\n",
    "total_episodes = 100"
   ]
  },
  {
   "cell_type": "code",
   "execution_count": 3,
   "metadata": {},
   "outputs": [],
   "source": [
    "env = tiger_deer_v4.env(map_size=60, minimap_mode=False, render_mode='human', tiger_step_recover=-0.1, deer_attacked=-0.1, max_cycles=max_cycles, extra_features=False)\n",
    "# random_demo(env, render=False , episodes=1)\n",
    "# pygame.quit()"
   ]
  },
  {
   "cell_type": "code",
   "execution_count": 4,
   "metadata": {},
   "outputs": [],
   "source": [
    "class Tiger_DQN(nn.Module):\n",
    "    def __init__(self, n_observations, n_actions):\n",
    "        super(Tiger_DQN, self).__init__()\n",
    "        self.layer1 = nn.Linear(n_observations, 128)\n",
    "        self.layer2 = nn.Linear(128, 128)\n",
    "        self.layer3 = nn.Linear(128, n_actions)\n",
    "\n",
    "    # Called with either one element to determine next action, or a batch\n",
    "    # during optimization. Returns tensor([[left0exp,right0exp]...]).\n",
    "    def forward(self, x):\n",
    "        x = F.relu(self.layer1(x))\n",
    "        x = F.relu(self.layer2(x))\n",
    "        return self.layer3(x)"
   ]
  },
  {
   "cell_type": "code",
   "execution_count": 5,
   "metadata": {},
   "outputs": [],
   "source": [
    "class Deer_DQN(nn.Module):\n",
    "    def __init__(self, n_observations, n_actions):\n",
    "        super(Deer_DQN, self).__init__()\n",
    "        self.layer1 = nn.Linear(n_observations, 128)\n",
    "        self.layer2 = nn.Linear(128, 128)\n",
    "        self.layer3 = nn.Linear(128, n_actions)\n",
    "\n",
    "    # Called with either one element to determine next action, or a batch\n",
    "    # during optimization. Returns tensor([[left0exp,right0exp]...]).\n",
    "    def forward(self, x):\n",
    "        x = F.relu(self.layer1(x))\n",
    "        x = F.relu(self.layer2(x))\n",
    "        return self.layer3(x)"
   ]
  },
  {
   "cell_type": "code",
   "execution_count": 6,
   "metadata": {},
   "outputs": [],
   "source": [
    "def deer_policy(observation, agent):\n",
    "    # print(type(observation))\n",
    "    # print(observation.shape)\n",
    "    # print(observation)\n",
    "    # 0 - up\n",
    "    # 1 - left\n",
    "    # 2 - stay still/  nothing\n",
    "    # 3 - right\n",
    "    # 4 - down\n",
    "    return 4"
   ]
  },
  {
   "cell_type": "code",
   "execution_count": 7,
   "metadata": {},
   "outputs": [],
   "source": [
    "def tiger_policy(observation, agent):\n",
    "    # print(observation)\n",
    "    # 0 - up\n",
    "    # 1 - left\n",
    "    # 2 - stay still/  nothing\n",
    "    # 3 - right\n",
    "    # 4 - down\n",
    "    # 5 - attack up\n",
    "    # 6 - attack left\n",
    "    # 7 - attack right\n",
    "    # 8 - attack down\n",
    "    return 5"
   ]
  },
  {
   "cell_type": "code",
   "execution_count": 8,
   "metadata": {},
   "outputs": [],
   "source": [
    "def optimize_model(episode_data, model):\n",
    "    pass"
   ]
  },
  {
   "cell_type": "code",
   "execution_count": 9,
   "metadata": {},
   "outputs": [
    {
     "name": "stdout",
     "output_type": "stream",
     "text": [
      "dict_keys(['deer', 'tiger'])\n",
      "dict_keys(['deer', 'tiger'])\n",
      "dict_keys(['deer', 'tiger'])\n",
      "dict_keys(['deer', 'tiger'])\n",
      "dict_keys(['deer', 'tiger'])\n",
      "dict_keys(['deer', 'tiger'])\n",
      "dict_keys(['deer', 'tiger'])\n",
      "dict_keys(['deer', 'tiger'])\n",
      "dict_keys(['deer', 'tiger'])\n",
      "dict_keys(['deer', 'tiger'])\n",
      "dict_keys(['deer', 'tiger'])\n",
      "dict_keys(['deer', 'tiger'])\n",
      "dict_keys(['deer', 'tiger'])\n",
      "dict_keys(['deer', 'tiger'])\n",
      "dict_keys(['deer', 'tiger'])\n",
      "dict_keys(['deer', 'tiger'])\n",
      "dict_keys(['deer', 'tiger'])\n",
      "dict_keys(['deer', 'tiger'])\n",
      "dict_keys(['deer', 'tiger'])\n",
      "dict_keys(['deer', 'tiger'])\n",
      "dict_keys(['deer', 'tiger'])\n",
      "dict_keys(['deer', 'tiger'])\n",
      "dict_keys(['deer', 'tiger'])\n",
      "dict_keys(['deer', 'tiger'])\n",
      "dict_keys(['deer', 'tiger'])\n",
      "dict_keys(['deer', 'tiger'])\n",
      "dict_keys(['deer', 'tiger'])\n",
      "dict_keys(['deer', 'tiger'])\n",
      "dict_keys(['deer', 'tiger'])\n",
      "dict_keys(['deer', 'tiger'])\n",
      "dict_keys(['deer', 'tiger'])\n",
      "dict_keys(['deer', 'tiger'])\n",
      "dict_keys(['deer', 'tiger'])\n",
      "dict_keys(['deer', 'tiger'])\n",
      "dict_keys(['deer', 'tiger'])\n",
      "dict_keys(['deer', 'tiger'])\n",
      "dict_keys(['deer', 'tiger'])\n",
      "dict_keys(['deer', 'tiger'])\n",
      "dict_keys(['deer', 'tiger'])\n",
      "dict_keys(['deer', 'tiger'])\n",
      "dict_keys(['deer', 'tiger'])\n",
      "dict_keys(['deer', 'tiger'])\n",
      "dict_keys(['deer', 'tiger'])\n",
      "dict_keys(['deer', 'tiger'])\n",
      "dict_keys(['deer', 'tiger'])\n",
      "dict_keys(['deer', 'tiger'])\n",
      "dict_keys(['deer', 'tiger'])\n",
      "dict_keys(['deer', 'tiger'])\n",
      "dict_keys(['deer', 'tiger'])\n",
      "dict_keys(['deer', 'tiger'])\n",
      "dict_keys(['deer', 'tiger'])\n",
      "dict_keys(['deer', 'tiger'])\n",
      "dict_keys(['deer', 'tiger'])\n",
      "dict_keys(['deer', 'tiger'])\n",
      "dict_keys(['deer', 'tiger'])\n",
      "dict_keys(['deer', 'tiger'])\n",
      "dict_keys(['deer', 'tiger'])\n",
      "dict_keys(['deer', 'tiger'])\n",
      "dict_keys(['deer', 'tiger'])\n",
      "dict_keys(['deer', 'tiger'])\n",
      "dict_keys(['deer', 'tiger'])\n",
      "dict_keys(['deer', 'tiger'])\n",
      "dict_keys(['deer', 'tiger'])\n",
      "dict_keys(['deer', 'tiger'])\n",
      "dict_keys(['deer', 'tiger'])\n",
      "dict_keys(['deer', 'tiger'])\n",
      "dict_keys(['deer', 'tiger'])\n",
      "dict_keys(['deer', 'tiger'])\n",
      "dict_keys(['deer', 'tiger'])\n",
      "dict_keys(['deer', 'tiger'])\n",
      "dict_keys(['deer', 'tiger'])\n",
      "dict_keys(['deer', 'tiger'])\n",
      "dict_keys(['deer', 'tiger'])\n",
      "dict_keys(['deer', 'tiger'])\n",
      "dict_keys(['deer', 'tiger'])\n",
      "dict_keys(['deer', 'tiger'])\n",
      "dict_keys(['deer', 'tiger'])\n",
      "dict_keys(['deer', 'tiger'])\n",
      "dict_keys(['deer', 'tiger'])\n",
      "dict_keys(['deer', 'tiger'])\n",
      "dict_keys(['deer', 'tiger'])\n",
      "dict_keys(['deer', 'tiger'])\n",
      "dict_keys(['deer', 'tiger'])\n",
      "dict_keys(['deer', 'tiger'])\n",
      "dict_keys(['deer', 'tiger'])\n",
      "dict_keys(['deer', 'tiger'])\n",
      "dict_keys(['deer', 'tiger'])\n",
      "dict_keys(['deer', 'tiger'])\n",
      "dict_keys(['deer', 'tiger'])\n",
      "dict_keys(['deer', 'tiger'])\n",
      "dict_keys(['deer', 'tiger'])\n",
      "dict_keys(['deer', 'tiger'])\n",
      "dict_keys(['deer', 'tiger'])\n",
      "dict_keys(['deer', 'tiger'])\n",
      "dict_keys(['deer', 'tiger'])\n",
      "dict_keys(['deer', 'tiger'])\n",
      "dict_keys(['deer', 'tiger'])\n",
      "dict_keys(['deer', 'tiger'])\n",
      "dict_keys(['deer', 'tiger'])\n",
      "dict_keys(['deer', 'tiger'])\n"
     ]
    }
   ],
   "source": [
    "tiger_model = Tiger_DQN(10,10)\n",
    "deer_model = Deer_DQN(10,10)\n",
    "for episodes in range(total_episodes):\n",
    "    env.reset(seed=None)\n",
    "    episode_data = {'deer': [], 'tiger':[]}\n",
    "    for agent in env.agent_iter():\n",
    "        observation, reward, termination, truncation, info = env.last()\n",
    "\n",
    "        # set agent type to tiger or deer based on agentName\n",
    "        agentType = None\n",
    "        if 'tiger' in agent:\n",
    "            agentType = 'tiger'\n",
    "        else:\n",
    "            agentType = 'deer'\n",
    "        \n",
    "        # catch if agent is dead\n",
    "        done = termination or truncation\n",
    "\n",
    "        if not done:\n",
    "            # if the agent is not dead\n",
    "            if \"tiger\" == agent:\n",
    "                action =  tiger_policy(observation, agent)\n",
    "            else:\n",
    "                action = deer_policy(observation, agent)\n",
    "            episode_data[agentType].append([agent, observation, reward, termination, truncation, info, action])\n",
    "        else:\n",
    "            # if agent is dead\n",
    "            action = None\n",
    "        env.step(action)\n",
    "\n",
    "    print(episode_data.keys())\n",
    "    optimize_model(episode_data['deer'], deer_model)\n",
    "    optimize_model(episode_data['tiger'], tiger_model)\n",
    "env.close()"
   ]
  },
  {
   "cell_type": "code",
   "execution_count": 10,
   "metadata": {},
   "outputs": [
    {
     "name": "stdout",
     "output_type": "stream",
     "text": [
      "<bound method BaseWrapper.action_space of <pettingzoo.utils.wrappers.order_enforcing.OrderEnforcingWrapper object at 0x0000018D6BA8F670>>\n",
      "<class 'pettingzoo.utils.wrappers.order_enforcing.OrderEnforcingWrapper'>\n",
      "0\n",
      "['deer_0', 'deer_1', 'deer_2', 'deer_3', 'deer_4', 'deer_5', 'deer_6', 'deer_7', 'deer_8', 'deer_9', 'deer_10', 'deer_11', 'deer_12', 'deer_13', 'deer_14', 'deer_15', 'deer_16', 'deer_17', 'deer_18', 'deer_19', 'deer_20', 'deer_21', 'deer_22', 'deer_23', 'deer_24', 'deer_25', 'deer_26', 'deer_27', 'deer_28', 'deer_29', 'deer_30', 'deer_31', 'deer_32', 'deer_33', 'deer_34', 'deer_35', 'deer_36', 'deer_37', 'deer_38', 'deer_39', 'deer_40', 'deer_41', 'deer_42', 'deer_43', 'deer_44', 'deer_45', 'deer_46', 'deer_47', 'deer_48', 'deer_49', 'deer_50', 'deer_51', 'deer_52', 'deer_53', 'deer_54', 'deer_55', 'deer_56', 'deer_57', 'deer_58', 'deer_59', 'deer_60', 'deer_61', 'deer_62', 'deer_63', 'deer_64', 'deer_65', 'deer_66', 'deer_67', 'deer_68', 'deer_69', 'deer_70', 'deer_71', 'deer_72', 'deer_73', 'deer_74', 'deer_75', 'deer_76', 'deer_77', 'deer_78', 'deer_79', 'deer_80', 'deer_81', 'deer_82', 'deer_83', 'deer_84', 'deer_85', 'deer_86', 'deer_87', 'deer_88', 'deer_89', 'deer_90', 'deer_91', 'deer_92', 'deer_93', 'deer_94', 'deer_95', 'deer_96', 'deer_97', 'deer_98', 'deer_99', 'deer_100', 'deer_101', 'deer_102', 'deer_103', 'deer_104', 'deer_105', 'deer_106', 'deer_107', 'deer_108', 'deer_109', 'deer_110', 'deer_111', 'deer_112', 'deer_113', 'deer_114', 'deer_115', 'deer_116', 'deer_117', 'deer_118', 'deer_119', 'deer_120', 'deer_121', 'deer_122', 'deer_123', 'deer_124', 'deer_125', 'deer_126', 'deer_127', 'deer_128', 'deer_129', 'deer_130', 'deer_131', 'deer_132', 'deer_133', 'deer_134', 'deer_135', 'deer_136', 'deer_137', 'deer_138', 'deer_139', 'deer_140', 'deer_141', 'deer_142', 'deer_143', 'deer_144', 'deer_145', 'deer_146', 'deer_147', 'deer_148', 'deer_149', 'deer_150', 'deer_151', 'deer_152', 'deer_153', 'deer_154', 'deer_155', 'deer_156', 'deer_157', 'deer_158', 'deer_159', 'deer_160', 'deer_161', 'deer_162', 'deer_163', 'deer_164', 'deer_165', 'deer_166', 'deer_167', 'deer_168', 'deer_169', 'deer_170', 'deer_171', 'deer_172', 'deer_173', 'deer_174', 'deer_175', 'deer_176', 'deer_177', 'deer_178', 'deer_179', 'tiger_0', 'tiger_1', 'tiger_2', 'tiger_3', 'tiger_4', 'tiger_5', 'tiger_6', 'tiger_7', 'tiger_8', 'tiger_9', 'tiger_10', 'tiger_11', 'tiger_12', 'tiger_13', 'tiger_14', 'tiger_15', 'tiger_16', 'tiger_17', 'tiger_18', 'tiger_19', 'tiger_20', 'tiger_21', 'tiger_22', 'tiger_23', 'tiger_24', 'tiger_25', 'tiger_26', 'tiger_27', 'tiger_28', 'tiger_29', 'tiger_30', 'tiger_31', 'tiger_32', 'tiger_33', 'tiger_34', 'tiger_35']\n",
      "{'deer_0': Discrete(5), 'deer_1': Discrete(5), 'deer_2': Discrete(5), 'deer_3': Discrete(5), 'deer_4': Discrete(5), 'deer_5': Discrete(5), 'deer_6': Discrete(5), 'deer_7': Discrete(5), 'deer_8': Discrete(5), 'deer_9': Discrete(5), 'deer_10': Discrete(5), 'deer_11': Discrete(5), 'deer_12': Discrete(5), 'deer_13': Discrete(5), 'deer_14': Discrete(5), 'deer_15': Discrete(5), 'deer_16': Discrete(5), 'deer_17': Discrete(5), 'deer_18': Discrete(5), 'deer_19': Discrete(5), 'deer_20': Discrete(5), 'deer_21': Discrete(5), 'deer_22': Discrete(5), 'deer_23': Discrete(5), 'deer_24': Discrete(5), 'deer_25': Discrete(5), 'deer_26': Discrete(5), 'deer_27': Discrete(5), 'deer_28': Discrete(5), 'deer_29': Discrete(5), 'deer_30': Discrete(5), 'deer_31': Discrete(5), 'deer_32': Discrete(5), 'deer_33': Discrete(5), 'deer_34': Discrete(5), 'deer_35': Discrete(5), 'deer_36': Discrete(5), 'deer_37': Discrete(5), 'deer_38': Discrete(5), 'deer_39': Discrete(5), 'deer_40': Discrete(5), 'deer_41': Discrete(5), 'deer_42': Discrete(5), 'deer_43': Discrete(5), 'deer_44': Discrete(5), 'deer_45': Discrete(5), 'deer_46': Discrete(5), 'deer_47': Discrete(5), 'deer_48': Discrete(5), 'deer_49': Discrete(5), 'deer_50': Discrete(5), 'deer_51': Discrete(5), 'deer_52': Discrete(5), 'deer_53': Discrete(5), 'deer_54': Discrete(5), 'deer_55': Discrete(5), 'deer_56': Discrete(5), 'deer_57': Discrete(5), 'deer_58': Discrete(5), 'deer_59': Discrete(5), 'deer_60': Discrete(5), 'deer_61': Discrete(5), 'deer_62': Discrete(5), 'deer_63': Discrete(5), 'deer_64': Discrete(5), 'deer_65': Discrete(5), 'deer_66': Discrete(5), 'deer_67': Discrete(5), 'deer_68': Discrete(5), 'deer_69': Discrete(5), 'deer_70': Discrete(5), 'deer_71': Discrete(5), 'deer_72': Discrete(5), 'deer_73': Discrete(5), 'deer_74': Discrete(5), 'deer_75': Discrete(5), 'deer_76': Discrete(5), 'deer_77': Discrete(5), 'deer_78': Discrete(5), 'deer_79': Discrete(5), 'deer_80': Discrete(5), 'deer_81': Discrete(5), 'deer_82': Discrete(5), 'deer_83': Discrete(5), 'deer_84': Discrete(5), 'deer_85': Discrete(5), 'deer_86': Discrete(5), 'deer_87': Discrete(5), 'deer_88': Discrete(5), 'deer_89': Discrete(5), 'deer_90': Discrete(5), 'deer_91': Discrete(5), 'deer_92': Discrete(5), 'deer_93': Discrete(5), 'deer_94': Discrete(5), 'deer_95': Discrete(5), 'deer_96': Discrete(5), 'deer_97': Discrete(5), 'deer_98': Discrete(5), 'deer_99': Discrete(5), 'deer_100': Discrete(5), 'deer_101': Discrete(5), 'deer_102': Discrete(5), 'deer_103': Discrete(5), 'deer_104': Discrete(5), 'deer_105': Discrete(5), 'deer_106': Discrete(5), 'deer_107': Discrete(5), 'deer_108': Discrete(5), 'deer_109': Discrete(5), 'deer_110': Discrete(5), 'deer_111': Discrete(5), 'deer_112': Discrete(5), 'deer_113': Discrete(5), 'deer_114': Discrete(5), 'deer_115': Discrete(5), 'deer_116': Discrete(5), 'deer_117': Discrete(5), 'deer_118': Discrete(5), 'deer_119': Discrete(5), 'deer_120': Discrete(5), 'deer_121': Discrete(5), 'deer_122': Discrete(5), 'deer_123': Discrete(5), 'deer_124': Discrete(5), 'deer_125': Discrete(5), 'deer_126': Discrete(5), 'deer_127': Discrete(5), 'deer_128': Discrete(5), 'deer_129': Discrete(5), 'deer_130': Discrete(5), 'deer_131': Discrete(5), 'deer_132': Discrete(5), 'deer_133': Discrete(5), 'deer_134': Discrete(5), 'deer_135': Discrete(5), 'deer_136': Discrete(5), 'deer_137': Discrete(5), 'deer_138': Discrete(5), 'deer_139': Discrete(5), 'deer_140': Discrete(5), 'deer_141': Discrete(5), 'deer_142': Discrete(5), 'deer_143': Discrete(5), 'deer_144': Discrete(5), 'deer_145': Discrete(5), 'deer_146': Discrete(5), 'deer_147': Discrete(5), 'deer_148': Discrete(5), 'deer_149': Discrete(5), 'deer_150': Discrete(5), 'deer_151': Discrete(5), 'deer_152': Discrete(5), 'deer_153': Discrete(5), 'deer_154': Discrete(5), 'deer_155': Discrete(5), 'deer_156': Discrete(5), 'deer_157': Discrete(5), 'deer_158': Discrete(5), 'deer_159': Discrete(5), 'deer_160': Discrete(5), 'deer_161': Discrete(5), 'deer_162': Discrete(5), 'deer_163': Discrete(5), 'deer_164': Discrete(5), 'deer_165': Discrete(5), 'deer_166': Discrete(5), 'deer_167': Discrete(5), 'deer_168': Discrete(5), 'deer_169': Discrete(5), 'deer_170': Discrete(5), 'deer_171': Discrete(5), 'deer_172': Discrete(5), 'deer_173': Discrete(5), 'deer_174': Discrete(5), 'deer_175': Discrete(5), 'deer_176': Discrete(5), 'deer_177': Discrete(5), 'deer_178': Discrete(5), 'deer_179': Discrete(5), 'tiger_0': Discrete(9), 'tiger_1': Discrete(9), 'tiger_2': Discrete(9), 'tiger_3': Discrete(9), 'tiger_4': Discrete(9), 'tiger_5': Discrete(9), 'tiger_6': Discrete(9), 'tiger_7': Discrete(9), 'tiger_8': Discrete(9), 'tiger_9': Discrete(9), 'tiger_10': Discrete(9), 'tiger_11': Discrete(9), 'tiger_12': Discrete(9), 'tiger_13': Discrete(9), 'tiger_14': Discrete(9), 'tiger_15': Discrete(9), 'tiger_16': Discrete(9), 'tiger_17': Discrete(9), 'tiger_18': Discrete(9), 'tiger_19': Discrete(9), 'tiger_20': Discrete(9), 'tiger_21': Discrete(9), 'tiger_22': Discrete(9), 'tiger_23': Discrete(9), 'tiger_24': Discrete(9), 'tiger_25': Discrete(9), 'tiger_26': Discrete(9), 'tiger_27': Discrete(9), 'tiger_28': Discrete(9), 'tiger_29': Discrete(9), 'tiger_30': Discrete(9), 'tiger_31': Discrete(9), 'tiger_32': Discrete(9), 'tiger_33': Discrete(9), 'tiger_34': Discrete(9), 'tiger_35': Discrete(9)}\n"
     ]
    },
    {
     "name": "stderr",
     "output_type": "stream",
     "text": [
      "c:\\Users\\Scott\\a3\\lib\\site-packages\\pettingzoo\\utils\\wrappers\\base.py:64: UserWarning: The `action_spaces` dictionary is deprecated. Use the `action_space` function instead.\n",
      "  warnings.warn(\n"
     ]
    }
   ],
   "source": [
    "print(env.action_space)\n",
    "print(type(env))\n",
    "print(env.num_agents)\n",
    "print(env.possible_agents)\n",
    "print(env.action_spaces)"
   ]
  },
  {
   "cell_type": "code",
   "execution_count": null,
   "metadata": {},
   "outputs": [],
   "source": []
  }
 ],
 "metadata": {
  "kernelspec": {
   "display_name": "base",
   "language": "python",
   "name": "python3"
  },
  "language_info": {
   "codemirror_mode": {
    "name": "ipython",
    "version": 3
   },
   "file_extension": ".py",
   "mimetype": "text/x-python",
   "name": "python",
   "nbconvert_exporter": "python",
   "pygments_lexer": "ipython3",
   "version": "3.9.13"
  },
  "orig_nbformat": 4
 },
 "nbformat": 4,
 "nbformat_minor": 2
}
