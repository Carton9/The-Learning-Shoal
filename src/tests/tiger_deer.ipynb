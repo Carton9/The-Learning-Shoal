{
 "cells": [
  {
   "cell_type": "code",
   "execution_count": 103,
   "metadata": {},
   "outputs": [],
   "source": [
    "from magent2.environments import battle_v4, adversarial_pursuit_v4, tiger_deer_v4\n",
    "import sys, os\n",
    "from pettingzoo.utils import random_demo\n",
    "import pygame\n",
    "import torch"
   ]
  },
  {
   "cell_type": "code",
   "execution_count": 104,
   "metadata": {},
   "outputs": [],
   "source": [
    "env = tiger_deer_v4.env(map_size=45, minimap_mode=False, render_mode='human', tiger_step_recover=-0.1, deer_attacked=-0.1, max_cycles=100, extra_features=False)\n",
    "# random_demo(env, render=False , episodes=10)\n",
    "# pygame.quit()"
   ]
  },
  {
   "cell_type": "code",
   "execution_count": 105,
   "metadata": {},
   "outputs": [],
   "source": [
    "device = torch.device(\"cuda\" if torch.cuda.is_available() else \"cpu\")\n",
    "ent_coef = 0.1\n",
    "vf_coef = 0.1\n",
    "clip_coef = 0.1\n",
    "gamma = 0.99\n",
    "batch_size = 32\n",
    "stack_size = 4\n",
    "frame_size = (128, 128)\n",
    "max_cycles = 125\n",
    "total_episodes = 2"
   ]
  },
  {
   "cell_type": "code",
   "execution_count": 106,
   "metadata": {},
   "outputs": [],
   "source": [
    "def deer_policy(observation, agent):\n",
    "    # print(observation)\n",
    "    # print(agent)\n",
    "    \n",
    "    return 4"
   ]
  },
  {
   "cell_type": "code",
   "execution_count": 107,
   "metadata": {},
   "outputs": [],
   "source": [
    "def tiger_policy(observation, agent):\n",
    "\n",
    "    return 5"
   ]
  },
  {
   "cell_type": "code",
   "execution_count": 108,
   "metadata": {},
   "outputs": [
    {
     "ename": "SystemExit",
     "evalue": "",
     "output_type": "error",
     "traceback": [
      "An exception has occurred, use %tb to see the full traceback.\n",
      "\u001b[1;31mSystemExit\u001b[0m\n"
     ]
    },
    {
     "name": "stderr",
     "output_type": "stream",
     "text": [
      "c:\\Users\\Scott\\a3\\lib\\site-packages\\IPython\\core\\interactiveshell.py:3465: UserWarning: To exit: use 'exit', 'quit', or Ctrl-D.\n",
      "  warn(\"To exit: use 'exit', 'quit', or Ctrl-D.\", stacklevel=1)\n"
     ]
    }
   ],
   "source": [
    "for episodes in range(total_episodes):\n",
    "    env.reset(seed=None)\n",
    "    for step in range(0, max_cycles):\n",
    "        for agent in env.agent_iter():\n",
    "            observation, reward, termination, truncation, info = env.last()\n",
    "            if not termination and not truncation:\n",
    "                if \"tiger\" in agent:\n",
    "                    action =  tiger_policy(observation, agent)\n",
    "                else:\n",
    "                    action = deer_policy(observation, agent)\n",
    "            else:\n",
    "                action = None\n",
    "            env.step(action)\n",
    "            env.render()"
   ]
  },
  {
   "cell_type": "code",
   "execution_count": null,
   "metadata": {},
   "outputs": [
    {
     "name": "stdout",
     "output_type": "stream",
     "text": [
      "<bound method BaseWrapper.action_space of <pettingzoo.utils.wrappers.order_enforcing.OrderEnforcingWrapper object at 0x000002084D14CCD0>>\n",
      "<class 'pettingzoo.utils.wrappers.order_enforcing.OrderEnforcingWrapper'>\n",
      "0\n",
      "['deer_0', 'deer_1', 'deer_2', 'deer_3', 'deer_4', 'deer_5', 'deer_6', 'deer_7', 'deer_8', 'deer_9', 'deer_10', 'deer_11', 'deer_12', 'deer_13', 'deer_14', 'deer_15', 'deer_16', 'deer_17', 'deer_18', 'deer_19', 'deer_20', 'deer_21', 'deer_22', 'deer_23', 'deer_24', 'deer_25', 'deer_26', 'deer_27', 'deer_28', 'deer_29', 'deer_30', 'deer_31', 'deer_32', 'deer_33', 'deer_34', 'deer_35', 'deer_36', 'deer_37', 'deer_38', 'deer_39', 'deer_40', 'deer_41', 'deer_42', 'deer_43', 'deer_44', 'deer_45', 'deer_46', 'deer_47', 'deer_48', 'deer_49', 'deer_50', 'deer_51', 'deer_52', 'deer_53', 'deer_54', 'deer_55', 'deer_56', 'deer_57', 'deer_58', 'deer_59', 'deer_60', 'deer_61', 'deer_62', 'deer_63', 'deer_64', 'deer_65', 'deer_66', 'deer_67', 'deer_68', 'deer_69', 'deer_70', 'deer_71', 'deer_72', 'deer_73', 'deer_74', 'deer_75', 'deer_76', 'deer_77', 'deer_78', 'deer_79', 'deer_80', 'deer_81', 'deer_82', 'deer_83', 'deer_84', 'deer_85', 'deer_86', 'deer_87', 'deer_88', 'deer_89', 'deer_90', 'deer_91', 'deer_92', 'deer_93', 'deer_94', 'deer_95', 'deer_96', 'deer_97', 'deer_98', 'deer_99', 'deer_100', 'tiger_0', 'tiger_1', 'tiger_2', 'tiger_3', 'tiger_4', 'tiger_5', 'tiger_6', 'tiger_7', 'tiger_8', 'tiger_9', 'tiger_10', 'tiger_11', 'tiger_12', 'tiger_13', 'tiger_14', 'tiger_15', 'tiger_16', 'tiger_17', 'tiger_18', 'tiger_19']\n",
      "{'deer_0': Discrete(5), 'deer_1': Discrete(5), 'deer_2': Discrete(5), 'deer_3': Discrete(5), 'deer_4': Discrete(5), 'deer_5': Discrete(5), 'deer_6': Discrete(5), 'deer_7': Discrete(5), 'deer_8': Discrete(5), 'deer_9': Discrete(5), 'deer_10': Discrete(5), 'deer_11': Discrete(5), 'deer_12': Discrete(5), 'deer_13': Discrete(5), 'deer_14': Discrete(5), 'deer_15': Discrete(5), 'deer_16': Discrete(5), 'deer_17': Discrete(5), 'deer_18': Discrete(5), 'deer_19': Discrete(5), 'deer_20': Discrete(5), 'deer_21': Discrete(5), 'deer_22': Discrete(5), 'deer_23': Discrete(5), 'deer_24': Discrete(5), 'deer_25': Discrete(5), 'deer_26': Discrete(5), 'deer_27': Discrete(5), 'deer_28': Discrete(5), 'deer_29': Discrete(5), 'deer_30': Discrete(5), 'deer_31': Discrete(5), 'deer_32': Discrete(5), 'deer_33': Discrete(5), 'deer_34': Discrete(5), 'deer_35': Discrete(5), 'deer_36': Discrete(5), 'deer_37': Discrete(5), 'deer_38': Discrete(5), 'deer_39': Discrete(5), 'deer_40': Discrete(5), 'deer_41': Discrete(5), 'deer_42': Discrete(5), 'deer_43': Discrete(5), 'deer_44': Discrete(5), 'deer_45': Discrete(5), 'deer_46': Discrete(5), 'deer_47': Discrete(5), 'deer_48': Discrete(5), 'deer_49': Discrete(5), 'deer_50': Discrete(5), 'deer_51': Discrete(5), 'deer_52': Discrete(5), 'deer_53': Discrete(5), 'deer_54': Discrete(5), 'deer_55': Discrete(5), 'deer_56': Discrete(5), 'deer_57': Discrete(5), 'deer_58': Discrete(5), 'deer_59': Discrete(5), 'deer_60': Discrete(5), 'deer_61': Discrete(5), 'deer_62': Discrete(5), 'deer_63': Discrete(5), 'deer_64': Discrete(5), 'deer_65': Discrete(5), 'deer_66': Discrete(5), 'deer_67': Discrete(5), 'deer_68': Discrete(5), 'deer_69': Discrete(5), 'deer_70': Discrete(5), 'deer_71': Discrete(5), 'deer_72': Discrete(5), 'deer_73': Discrete(5), 'deer_74': Discrete(5), 'deer_75': Discrete(5), 'deer_76': Discrete(5), 'deer_77': Discrete(5), 'deer_78': Discrete(5), 'deer_79': Discrete(5), 'deer_80': Discrete(5), 'deer_81': Discrete(5), 'deer_82': Discrete(5), 'deer_83': Discrete(5), 'deer_84': Discrete(5), 'deer_85': Discrete(5), 'deer_86': Discrete(5), 'deer_87': Discrete(5), 'deer_88': Discrete(5), 'deer_89': Discrete(5), 'deer_90': Discrete(5), 'deer_91': Discrete(5), 'deer_92': Discrete(5), 'deer_93': Discrete(5), 'deer_94': Discrete(5), 'deer_95': Discrete(5), 'deer_96': Discrete(5), 'deer_97': Discrete(5), 'deer_98': Discrete(5), 'deer_99': Discrete(5), 'deer_100': Discrete(5), 'tiger_0': Discrete(9), 'tiger_1': Discrete(9), 'tiger_2': Discrete(9), 'tiger_3': Discrete(9), 'tiger_4': Discrete(9), 'tiger_5': Discrete(9), 'tiger_6': Discrete(9), 'tiger_7': Discrete(9), 'tiger_8': Discrete(9), 'tiger_9': Discrete(9), 'tiger_10': Discrete(9), 'tiger_11': Discrete(9), 'tiger_12': Discrete(9), 'tiger_13': Discrete(9), 'tiger_14': Discrete(9), 'tiger_15': Discrete(9), 'tiger_16': Discrete(9), 'tiger_17': Discrete(9), 'tiger_18': Discrete(9), 'tiger_19': Discrete(9)}\n"
     ]
    },
    {
     "name": "stderr",
     "output_type": "stream",
     "text": [
      "c:\\Users\\Scott\\a3\\lib\\site-packages\\pettingzoo\\utils\\wrappers\\base.py:64: UserWarning: The `action_spaces` dictionary is deprecated. Use the `action_space` function instead.\n",
      "  warnings.warn(\n"
     ]
    }
   ],
   "source": [
    "print(env.action_space)\n",
    "print(type(env))\n",
    "print(env.num_agents)\n",
    "print(env.possible_agents)\n",
    "print(env.action_spaces)"
   ]
  },
  {
   "cell_type": "code",
   "execution_count": null,
   "metadata": {},
   "outputs": [],
   "source": []
  }
 ],
 "metadata": {
  "kernelspec": {
   "display_name": "base",
   "language": "python",
   "name": "python3"
  },
  "language_info": {
   "codemirror_mode": {
    "name": "ipython",
    "version": 3
   },
   "file_extension": ".py",
   "mimetype": "text/x-python",
   "name": "python",
   "nbconvert_exporter": "python",
   "pygments_lexer": "ipython3",
   "version": "3.9.13"
  },
  "orig_nbformat": 4
 },
 "nbformat": 4,
 "nbformat_minor": 2
}
