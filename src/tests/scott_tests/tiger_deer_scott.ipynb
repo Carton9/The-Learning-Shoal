{
 "cells": [
  {
   "cell_type": "code",
   "execution_count": 1,
   "metadata": {},
   "outputs": [],
   "source": [
    "from magent2.environments import battle_v4, adversarial_pursuit_v4, tiger_deer_v4\n",
    "from pettingzoo.utils import random_demo\n",
    "import torch\n",
    "# import torch.nn as nn\n",
    "# import torch.optim as optim\n",
    "# import torch.nn.functional as F\n",
    "# from dqn_basic import DQN_Basic\n",
    "from collections import namedtuple, deque\n",
    "import numpy as np\n",
    "# import matplotlib.pyplot as plt\n",
    "from Animal import Animal\n",
    "from pathlib import Path\n",
    "from collections import deque\n",
    "import datetime, os\n",
    "from metric_logger import MetricLogger\n",
    "import os\n",
    "os.environ[\"KMP_DUPLICATE_LIB_OK\"]=\"TRUE\""
   ]
  },
  {
   "cell_type": "code",
   "execution_count": 2,
   "metadata": {},
   "outputs": [
    {
     "name": "stdout",
     "output_type": "stream",
     "text": [
      "5\n",
      "(3, 3, 5)\n",
      "(5, 3, 3) (5, 9, 9)\n"
     ]
    },
    {
     "name": "stderr",
     "output_type": "stream",
     "text": [
      "c:\\Users\\mike\\AppData\\Local\\Programs\\Python\\Python310\\lib\\site-packages\\pettingzoo\\utils\\wrappers\\base.py:64: UserWarning: The `action_spaces` dictionary is deprecated. Use the `action_space` function instead.\n",
      "  warnings.warn(\n",
      "c:\\Users\\mike\\AppData\\Local\\Programs\\Python\\Python310\\lib\\site-packages\\pettingzoo\\utils\\wrappers\\base.py:50: UserWarning: The `observation_spaces` dictionary is deprecated. Use the `observation_space` function instead.\n",
      "  warnings.warn(\n"
     ]
    }
   ],
   "source": [
    "device = torch.device(\"cuda\" if torch.cuda.is_available() else \"cpu\")\n",
    "frame_size = (128, 128)\n",
    "max_cycles = 120\n",
    "total_episodes = 10\n",
    "map_size = 60\n",
    "\n",
    "# env = tiger_deer_v4.env(map_size=map_size, minimap_mode=False, render_mode='human', tiger_step_recover=-0.1, deer_attacked=-0.1, max_cycles=max_cycles, extra_features=False)\n",
    "# env = tiger_deer_v4.env(map_size=map_size, minimap_mode=False, render_mode='rgb_array', max_cycles=max_cycles, extra_features=False)\n",
    "env = tiger_deer_v4.env(map_size=map_size, minimap_mode=False, render_mode='human', max_cycles=max_cycles, extra_features=False)\n",
    "\n",
    "print(env.action_spaces['deer_0'].n)\n",
    "print(env.observation_spaces['deer_0'].shape)\n",
    "deer_observation_shape = env.observation_spaces['deer_0'].shape\n",
    "deer_observation_shape = tuple(np.roll(deer_observation_shape,1))\n",
    "deer_action_space = env.action_spaces['deer_0'].n\n",
    "\n",
    "tiger_observation_shape = env.observation_spaces['tiger_0'].shape\n",
    "tiger_observation_shape = tuple(np.roll(tiger_observation_shape,1))\n",
    "tiger_action_space = env.action_spaces['tiger_0'].n\n",
    "\n",
    "print(deer_observation_shape, tiger_observation_shape)\n",
    "assert deer_observation_shape != None\n",
    "assert tiger_observation_shape != None\n",
    "# 'rgb_array' or 'human'\n",
    "# random_demo(env, render=False , episodes=1)\n",
    "# 'rgb_array'\n",
    "# pygame.quit()"
   ]
  },
  {
   "cell_type": "code",
   "execution_count": 3,
   "metadata": {},
   "outputs": [],
   "source": [
    "def get_agent_type_from_agent_name(agent):\n",
    "    if 'tiger' in agent:\n",
    "        return 'tiger'\n",
    "    return 'deer'"
   ]
  },
  {
   "cell_type": "code",
   "execution_count": 4,
   "metadata": {},
   "outputs": [
    {
     "name": "stderr",
     "output_type": "stream",
     "text": [
      "c:\\Users\\mike\\AppData\\Local\\Programs\\Python\\Python310\\lib\\site-packages\\torch\\nn\\modules\\lazy.py:180: UserWarning: Lazy modules are a new feature under heavy development so changes to the API or functionality can happen at any moment.\n",
      "  warnings.warn('Lazy modules are a new feature under heavy development '\n"
     ]
    },
    {
     "name": "stdout",
     "output_type": "stream",
     "text": [
      "Using CUDA: True\n",
      "\n",
      "Episode:  0\n",
      "Animal saved to deer_checkpoints\\2023-04-23T17-15-18\\animal_net_0.chkpt at step 0\n",
      "Animal saved to tiger_checkpoints\\2023-04-23T17-15-18\\animal_net_0.chkpt at step 0\n",
      "Episode 0 - Step 18000 - Epsilon 0.9955101092689679 - Mean Reward -5.8 - Mean Length 18000.0 - Mean Loss 0.001 - Mean Q Value -0.013 - Time Delta 16.175 - Time 2023-04-23T17:15:35\n",
      "Episode 0 - Step 3600 - Epsilon 0.999100404766003 - Mean Reward 58.0 - Mean Length 3600.0 - Mean Loss 0.0 - Mean Q Value 0.0 - Time Delta 16.392 - Time 2023-04-23T17:15:35\n",
      "Episode:  1\n"
     ]
    }
   ],
   "source": [
    "use_cuda = torch.cuda.is_available()\n",
    "print(f\"Using CUDA: {use_cuda}\")\n",
    "print()\n",
    "\n",
    "deer_save_dir = Path(\"deer_checkpoints\") / datetime.datetime.now().strftime(\"%Y-%m-%dT%H-%M-%S\")\n",
    "deer_save_dir.mkdir(parents=True)\n",
    "\n",
    "tiger_save_dir = Path(\"tiger_checkpoints\") / datetime.datetime.now().strftime(\"%Y-%m-%dT%H-%M-%S\")\n",
    "tiger_save_dir.mkdir(parents=True)\n",
    "\n",
    "deer = Animal(state_dim=deer_observation_shape, action_dim=deer_action_space, save_dir=deer_save_dir)\n",
    "tiger = Animal(state_dim=tiger_observation_shape, action_dim=tiger_action_space, save_dir=tiger_save_dir)\n",
    "\n",
    "deer_logger = MetricLogger(deer_save_dir)\n",
    "tiger_logger = MetricLogger(tiger_save_dir)\n",
    "\n",
    "for e in range(total_episodes):\n",
    "    print(\"Episode: \", e)\n",
    "    env.reset(seed=None)\n",
    "    agents_prev_data = {}\n",
    "    episode_data = {'deer': [], 'tiger':[]}\n",
    "    # Play the game!\n",
    "    for agent in env.agent_iter():\n",
    "        \n",
    "        observation, reward, termination, truncation, info = env.last()\n",
    "        observation = np.transpose(observation, (2,0,1))\n",
    "        done = termination or truncation\n",
    "        agentType = get_agent_type_from_agent_name(agent)\n",
    "        # instantiate previous data\n",
    "        if agent not in agents_prev_data.keys():\n",
    "            if 'tiger' in agentType:\n",
    "                action = np.random.randint(0,tiger_action_space,(1,))[0]\n",
    "            else:\n",
    "                action = np.random.randint(0,deer_action_space,(1,))[0]\n",
    "            agents_prev_data[agent] = [observation, action, done, reward,  info]\n",
    "            env.step(action)\n",
    "            continue\n",
    "        prev_observation = agents_prev_data[agent][0]\n",
    "        prev_action = agents_prev_data[agent][1]\n",
    "        prev_done = agents_prev_data[agent][2]\n",
    "        \n",
    "        if not prev_done:\n",
    "            if 'deer' in agentType:\n",
    "                deer.cache(prev_observation, observation, prev_action, reward, done, agentName=agent)\n",
    "                #learn\n",
    "                q, loss = deer.learn()\n",
    "                # logging\n",
    "                deer_logger.log_step(reward, loss, q)\n",
    "                action = deer.act(observation)\n",
    "            else:\n",
    "                tiger.cache(prev_observation, observation, prev_action, reward, done, agentName=agent)\n",
    "                #learn\n",
    "                q, loss = tiger.learn()\n",
    "                # logging\n",
    "                tiger_logger.log_step(reward, loss, q)\n",
    "                action = tiger.act(observation)\n",
    "        \n",
    "        if done:\n",
    "            action = None\n",
    "        agents_prev_data[agent] = [observation, action, done, reward,  info]\n",
    "        env.step(action)\n",
    "        \n",
    "\n",
    "    deer_logger.log_episode()\n",
    "    tiger_logger.log_episode()\n",
    "\n",
    "    if e % 5 == 0:\n",
    "        deer_logger.record(episode=e, epsilon=deer.exploration_rate, step=deer.curr_step)\n",
    "        tiger_logger.record(episode=e, epsilon=tiger.exploration_rate, step=tiger.curr_step)\n",
    "deer_logger.record(episode=e, epsilon=deer.exploration_rate, step=deer.curr_step)\n",
    "tiger_logger.record(episode=e, epsilon=tiger.exploration_rate, step=tiger.curr_step)"
   ]
  },
  {
   "cell_type": "code",
   "execution_count": null,
   "metadata": {},
   "outputs": [],
   "source": [
    "render_mode='human'\n",
    "env.render_mode = render_mode"
   ]
  },
  {
   "cell_type": "code",
   "execution_count": null,
   "metadata": {},
   "outputs": [
    {
     "name": "stdout",
     "output_type": "stream",
     "text": [
      "Episode:  0\n",
      "Episode:  1\n",
      "Episode:  2\n",
      "Episode:  3\n",
      "Episode:  4\n",
      "Episode:  5\n",
      "Episode:  6\n",
      "Episode:  7\n",
      "Episode:  8\n",
      "Episode:  9\n"
     ]
    }
   ],
   "source": [
    "env = tiger_deer_v4.env(map_size=map_size, minimap_mode=False, render_mode='human', max_cycles=max_cycles, extra_features=False)\n",
    "example_episodes = 10\n",
    "for e in range(example_episodes):\n",
    "    print(\"Episode: \", e)\n",
    "    env.reset(seed=None)\n",
    "    # Play the game!\n",
    "    for agent in env.agent_iter():\n",
    "        \n",
    "        observation, reward, termination, truncation, info = env.last()\n",
    "        observation = np.transpose(observation, (2,0,1))\n",
    "        done = termination or truncation\n",
    "        agentType = get_agent_type_from_agent_name(agent)\n",
    "        if not done:\n",
    "            if 'deer' in agentType:\n",
    "                # deer.cache(prev_observation, observation, prev_action, reward, done, agentName=agent)\n",
    "                action = deer.act(observation)\n",
    "            else:\n",
    "                # tiger.cache(prev_observation, observation, prev_action, reward, done, agentName=agent)\n",
    "                action = tiger.act(observation)\n",
    "        else:\n",
    "            action = None\n",
    "        env.step(action)"
   ]
  },
  {
   "cell_type": "code",
   "execution_count": null,
   "metadata": {},
   "outputs": [],
   "source": []
  }
 ],
 "metadata": {
  "kernelspec": {
   "display_name": "base",
   "language": "python",
   "name": "python3"
  },
  "language_info": {
   "codemirror_mode": {
    "name": "ipython",
    "version": 3
   },
   "file_extension": ".py",
   "mimetype": "text/x-python",
   "name": "python",
   "nbconvert_exporter": "python",
   "pygments_lexer": "ipython3",
   "version": "3.10.6"
  },
  "orig_nbformat": 4
 },
 "nbformat": 4,
 "nbformat_minor": 2
}
