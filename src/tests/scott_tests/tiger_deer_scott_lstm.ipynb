{
 "cells": [
  {
   "cell_type": "code",
   "execution_count": 1,
   "metadata": {},
   "outputs": [],
   "source": [
    "from magent2.environments import battle_v4, adversarial_pursuit_v4, tiger_deer_v4\n",
    "from pettingzoo.utils import random_demo\n",
    "import torch\n",
    "import time\n",
    "# import torch.nn as nn\n",
    "# import torch.optim as optim\n",
    "# import torch.nn.functional as F\n",
    "# from dqn_basic import DQN_Basic\n",
    "from collections import namedtuple, deque\n",
    "import numpy as np\n",
    "# import matplotlib.pyplot as plt\n",
    "from AnimalLSTM import Animal\n",
    "from pathlib import Path\n",
    "from collections import deque\n",
    "import datetime, os\n",
    "from metric_logger import MetricLogger\n",
    "import os\n",
    "os.environ[\"KMP_DUPLICATE_LIB_OK\"]=\"TRUE\""
   ]
  },
  {
   "cell_type": "code",
   "execution_count": 2,
   "metadata": {},
   "outputs": [
    {
     "name": "stdout",
     "output_type": "stream",
     "text": [
      "5\n",
      "(3, 3, 5)\n",
      "(5, 3, 3) (5, 9, 9)\n"
     ]
    },
    {
     "name": "stderr",
     "output_type": "stream",
     "text": [
      "c:\\Users\\mike\\AppData\\Local\\Programs\\Python\\Python310\\lib\\site-packages\\pettingzoo\\utils\\wrappers\\base.py:64: UserWarning: The `action_spaces` dictionary is deprecated. Use the `action_space` function instead.\n",
      "  warnings.warn(\n",
      "c:\\Users\\mike\\AppData\\Local\\Programs\\Python\\Python310\\lib\\site-packages\\pettingzoo\\utils\\wrappers\\base.py:50: UserWarning: The `observation_spaces` dictionary is deprecated. Use the `observation_space` function instead.\n",
      "  warnings.warn(\n"
     ]
    }
   ],
   "source": [
    "device = torch.device(\"cuda\" if torch.cuda.is_available() else \"cpu\")\n",
    "# frame_size = (128, 128)\n",
    "max_cycles = 300\n",
    "total_episodes = 50\n",
    "map_size = 40\n",
    "\n",
    "# env = tiger_deer_v4.env(map_size=map_size, minimap_mode=False, render_mode='human', tiger_step_recover=-0.1, deer_attacked=-0.1, max_cycles=max_cycles, extra_features=False)\n",
    "env = tiger_deer_v4.env(map_size=map_size, minimap_mode=False, render_mode='rgb_array', max_cycles=max_cycles, extra_features=False)\n",
    "\n",
    "print(env.action_spaces['deer_0'].n)\n",
    "print(env.observation_spaces['deer_0'].shape)\n",
    "deer_observation_shape = env.observation_spaces['deer_0'].shape\n",
    "deer_observation_shape = tuple(np.roll(deer_observation_shape,1))\n",
    "# deer_action_space = env.action_spaces['deer_0'].n\n",
    "deer_action_space = 3\n",
    "\n",
    "tiger_observation_shape = env.observation_spaces['tiger_0'].shape\n",
    "tiger_observation_shape = tuple(np.roll(tiger_observation_shape,1))\n",
    "# tiger_action_space = env.action_spaces['tiger_0'].n\n",
    "tiger_action_space = 6\n",
    "\n",
    "print(deer_observation_shape, tiger_observation_shape)\n",
    "assert deer_observation_shape != None\n",
    "assert tiger_observation_shape != None\n",
    "# 'rgb_array' or 'human'\n",
    "# random_demo(env, render=False , episodes=1)\n",
    "# 'rgb_array'\n",
    "# pygame.quit()"
   ]
  },
  {
   "cell_type": "code",
   "execution_count": 3,
   "metadata": {},
   "outputs": [],
   "source": [
    "deer_action_mapping = {\n",
    "    0: {0: 0, 1: 1, 3: 3, 4: 4},\n",
    "    1: {0: 1, 1: 4, 3: 0, 4: 3},\n",
    "    2: {0: 3, 1: 0, 3: 4, 4: 1},\n",
    "}\n",
    "def deer_action_mapper(new_unmapped_action, prev_actual_action, size_of_actions=5):\n",
    "    global deer_action_mapping\n",
    "    return deer_action_mapping.get(new_unmapped_action, {}).get(prev_actual_action, np.random.choice(np.delete(np.arange(0, size_of_actions), 2)))\n",
    "\n",
    "tiger_action_mapping = {\n",
    "    0: {0: 0, 1: 1, 3: 3, 4: 4},\n",
    "    1: {0: 1, 1: 4, 3: 0, 4: 3},\n",
    "    2: {0: 3, 1: 0, 3: 4, 4: 1},\n",
    "    3: {0: 5, 1: 6, 3: 7, 4: 8},\n",
    "    4: {0: 6, 1: 8, 3: 5, 4: 7},\n",
    "    5: {0: 7, 1: 5, 3: 8, 4: 6},\n",
    "}\n",
    "\n",
    "tiger_direction_mapping = {\n",
    "    0: 0,\n",
    "    1: 1,\n",
    "    3: 3,\n",
    "    4: 4,\n",
    "    5: 0,\n",
    "    6: 1,\n",
    "    7: 3,\n",
    "    8: 4,\n",
    "}\n",
    "\n",
    "def tiger_action_mapper(new_action, prev_action, size_of_actions=5): # slower\n",
    "    global tiger_action_mapping, tiger_direction_mapping\n",
    "    direction = tiger_direction_mapping.get(prev_action, 0)\n",
    "    return tiger_action_mapping.get(new_action, {}).get(direction, 0)\n",
    "    "
   ]
  },
  {
   "cell_type": "code",
   "execution_count": 4,
   "metadata": {},
   "outputs": [],
   "source": [
    "def get_agent_type_from_agent_name(agent):\n",
    "    if 'tiger' in agent:\n",
    "        return 'tiger'\n",
    "    return 'deer'"
   ]
  },
  {
   "cell_type": "code",
   "execution_count": 5,
   "metadata": {},
   "outputs": [],
   "source": [
    "def generate_first_action(agentType):\n",
    "    if 'tiger' in agentType:\n",
    "        # action = np.random.randint(0,tiger_action_space,(1,))[0]\n",
    "        action = np.random.choice(np.arange(0, 6))\n",
    "        actual_action = tiger_action_mapper(action, np.random.choice(np.delete(np.arange(0, 9), 2)))\n",
    "    else:\n",
    "        # action = np.random.randint(0,deer_action_space,(1,))[0]\n",
    "        action = np.random.choice(np.arange(0, 3))\n",
    "        actual_action = deer_action_mapper(action, np.random.choice(np.delete(np.arange(0, 5), 2)))\n",
    "    \n",
    "    return action, actual_action"
   ]
  },
  {
   "cell_type": "code",
   "execution_count": 6,
   "metadata": {},
   "outputs": [],
   "source": [
    "def change_active_model(activeDeer, activeTiger, deerCurrentSteps, tigerCurrentSteps, steps_to_switch_at):\n",
    "    if tigerCurrentSteps < deerCurrentSteps-steps_to_switch_at:\n",
    "        if not activeTiger:\n",
    "            print(\"Switching to Tiger\")\n",
    "        return False, True\n",
    "    if deerCurrentSteps < tigerCurrentSteps- steps_to_switch_at:\n",
    "        if not activeDeer:\n",
    "            print(\"Switching to Deer\")\n",
    "        return True, False\n",
    "    return activeDeer, activeTiger"
   ]
  },
  {
   "attachments": {},
   "cell_type": "markdown",
   "metadata": {},
   "source": [
    "## Train Model"
   ]
  },
  {
   "attachments": {},
   "cell_type": "markdown",
   "metadata": {},
   "source": [
    "### Make Models and Loggers"
   ]
  },
  {
   "cell_type": "code",
   "execution_count": 7,
   "metadata": {},
   "outputs": [
    {
     "name": "stderr",
     "output_type": "stream",
     "text": [
      "c:\\Users\\mike\\AppData\\Local\\Programs\\Python\\Python310\\lib\\site-packages\\torch\\nn\\modules\\lazy.py:180: UserWarning: Lazy modules are a new feature under heavy development so changes to the API or functionality can happen at any moment.\n",
      "  warnings.warn('Lazy modules are a new feature under heavy development '\n"
     ]
    },
    {
     "name": "stdout",
     "output_type": "stream",
     "text": [
      "Using CUDA: True\n",
      "\n"
     ]
    }
   ],
   "source": [
    "use_cuda = torch.cuda.is_available()\n",
    "print(f\"Using CUDA: {use_cuda}\")\n",
    "print()\n",
    "\n",
    "deer_save_dir = Path(\"deer_checkpoints\") / datetime.datetime.now().strftime(\"%Y-%m-%dT%H-%M-%S\")\n",
    "deer_save_dir.mkdir(parents=True)\n",
    "\n",
    "tiger_save_dir = Path(\"tiger_checkpoints\") / datetime.datetime.now().strftime(\"%Y-%m-%dT%H-%M-%S\")\n",
    "tiger_save_dir.mkdir(parents=True)\n",
    "\n",
    "modelType = 'basic'\n",
    "\n",
    "deer = Animal(state_dim=deer_observation_shape, action_dim=deer_action_space, save_dir=deer_save_dir)\n",
    "tiger = Animal(state_dim=tiger_observation_shape, action_dim=tiger_action_space, save_dir=tiger_save_dir)\n",
    "\n",
    "deer_logger = MetricLogger(deer_save_dir)\n",
    "tiger_logger = MetricLogger(tiger_save_dir)\n",
    "\n",
    "\n",
    "# active training flags\n",
    "activeDeer = True\n",
    "activeTiger = False\n",
    "\n",
    "\n",
    "# Switch the training set\n",
    "switching = True\n",
    "steps_to_switch_at = 100000\n",
    "total_steps = 200000\n",
    "\n",
    "# if switching enabled, make sure no equivalence between active variables\n",
    "if switching:\n",
    "    if activeDeer == activeTiger:\n",
    "        activeTiger = not activeTiger"
   ]
  },
  {
   "attachments": {},
   "cell_type": "markdown",
   "metadata": {},
   "source": [
    "### Train Model"
   ]
  },
  {
   "cell_type": "code",
   "execution_count": 8,
   "metadata": {},
   "outputs": [
    {
     "name": "stdout",
     "output_type": "stream",
     "text": [
      "Episode:  0\n",
      "Animal saved to deer_checkpoints\\2023-04-24T23-23-19\\animal_net_0.chkpt at step 0\n"
     ]
    },
    {
     "name": "stderr",
     "output_type": "stream",
     "text": [
      "d:\\TempSync\\CS7643\\The-Learning-Shoal\\src\\tests\\scott_tests\\AnimalLSTM.py:48: UserWarning: To copy construct from a tensor, it is recommended to use sourceTensor.clone().detach() or sourceTensor.clone().detach().requires_grad_(True), rather than torch.tensor(sourceTensor).\n",
      "  hidden = torch.tensor(hidden, device=self.device).unsqueeze(0)\n",
      "d:\\TempSync\\CS7643\\The-Learning-Shoal\\src\\tests\\scott_tests\\AnimalLSTM.py:49: UserWarning: To copy construct from a tensor, it is recommended to use sourceTensor.clone().detach() or sourceTensor.clone().detach().requires_grad_(True), rather than torch.tensor(sourceTensor).\n",
      "  cell = torch.tensor(cell, device=self.device).unsqueeze(0)\n"
     ]
    },
    {
     "name": "stdout",
     "output_type": "stream",
     "text": [
      "Episode 0 - Step 8000 - Epsilon 0.9980019984175517 - Mean Reward -6.2 - Mean Length 8000.0 - Mean Loss 0.0 - Mean Q Value 0.0 - Time Delta 12.125 - Time 2023-04-24T23:23:33\n",
      "Episode 0 - Step 0 - Epsilon 1 - Mean Reward 0.0 - Mean Length 0.0 - Mean Loss 0.0 - Mean Q Value 0.0 - Time Delta 12.331 - Time 2023-04-24T23:23:33\n",
      "Episode:  1\n"
     ]
    },
    {
     "ename": "ValueError",
     "evalue": "all input arrays must have the same shape",
     "output_type": "error",
     "traceback": [
      "\u001b[1;31m---------------------------------------------------------------------------\u001b[0m",
      "\u001b[1;31mValueError\u001b[0m                                Traceback (most recent call last)",
      "\u001b[1;32md:\\TempSync\\CS7643\\The-Learning-Shoal\\src\\tests\\scott_tests\\tiger_deer_scott_lstm.ipynb Cell 11\u001b[0m in \u001b[0;36m<cell line: 2>\u001b[1;34m()\u001b[0m\n\u001b[0;32m     <a href='vscode-notebook-cell:/d%3A/TempSync/CS7643/The-Learning-Shoal/src/tests/scott_tests/tiger_deer_scott_lstm.ipynb#X13sZmlsZQ%3D%3D?line=36'>37</a>\u001b[0m deer\u001b[39m.\u001b[39mcache(prev_observation, observation, hidden, cell, prev_action, reward, done)\n\u001b[0;32m     <a href='vscode-notebook-cell:/d%3A/TempSync/CS7643/The-Learning-Shoal/src/tests/scott_tests/tiger_deer_scott_lstm.ipynb#X13sZmlsZQ%3D%3D?line=37'>38</a>\u001b[0m \u001b[39m#learn\u001b[39;00m\n\u001b[1;32m---> <a href='vscode-notebook-cell:/d%3A/TempSync/CS7643/The-Learning-Shoal/src/tests/scott_tests/tiger_deer_scott_lstm.ipynb#X13sZmlsZQ%3D%3D?line=38'>39</a>\u001b[0m q, loss \u001b[39m=\u001b[39m deer\u001b[39m.\u001b[39;49mlearn()\n\u001b[0;32m     <a href='vscode-notebook-cell:/d%3A/TempSync/CS7643/The-Learning-Shoal/src/tests/scott_tests/tiger_deer_scott_lstm.ipynb#X13sZmlsZQ%3D%3D?line=39'>40</a>\u001b[0m \u001b[39m# logging\u001b[39;00m\n\u001b[0;32m     <a href='vscode-notebook-cell:/d%3A/TempSync/CS7643/The-Learning-Shoal/src/tests/scott_tests/tiger_deer_scott_lstm.ipynb#X13sZmlsZQ%3D%3D?line=40'>41</a>\u001b[0m deer_logger\u001b[39m.\u001b[39mlog_step(reward, loss, q)\n",
      "File \u001b[1;32md:\\TempSync\\CS7643\\The-Learning-Shoal\\src\\tests\\scott_tests\\AnimalLSTM.py:166\u001b[0m, in \u001b[0;36mAnimal.learn\u001b[1;34m(self)\u001b[0m\n\u001b[0;32m    163\u001b[0m     \u001b[39mreturn\u001b[39;00m \u001b[39mNone\u001b[39;00m, \u001b[39mNone\u001b[39;00m\n\u001b[0;32m    165\u001b[0m \u001b[39m# Sample from memory\u001b[39;00m\n\u001b[1;32m--> 166\u001b[0m state, next_state, hidden, cell, action, reward, done \u001b[39m=\u001b[39m \u001b[39mself\u001b[39;49m\u001b[39m.\u001b[39;49mrecall()\n\u001b[0;32m    168\u001b[0m \u001b[39m# Get TD Estimate\u001b[39;00m\n\u001b[0;32m    169\u001b[0m td_est, (current_hidden, current_cell) \u001b[39m=\u001b[39m \u001b[39mself\u001b[39m\u001b[39m.\u001b[39mtd_estimate(state, hidden, cell, action)\n",
      "File \u001b[1;32md:\\TempSync\\CS7643\\The-Learning-Shoal\\src\\tests\\scott_tests\\AnimalLSTM.py:95\u001b[0m, in \u001b[0;36mAnimal.recall\u001b[1;34m(self)\u001b[0m\n\u001b[0;32m     91\u001b[0m \u001b[39m\"\"\"\u001b[39;00m\n\u001b[0;32m     92\u001b[0m \u001b[39mRetrieve a batch of experiences from memory\u001b[39;00m\n\u001b[0;32m     93\u001b[0m \u001b[39m\"\"\"\u001b[39;00m\n\u001b[0;32m     94\u001b[0m batch \u001b[39m=\u001b[39m random\u001b[39m.\u001b[39msample(\u001b[39mself\u001b[39m\u001b[39m.\u001b[39mmemory, \u001b[39mself\u001b[39m\u001b[39m.\u001b[39mbatch_size)\n\u001b[1;32m---> 95\u001b[0m state, next_state, hidden, cell, action, reward, done \u001b[39m=\u001b[39m \u001b[39mmap\u001b[39m(np\u001b[39m.\u001b[39mstack, \u001b[39mzip\u001b[39m(\u001b[39m*\u001b[39mbatch))\n\u001b[0;32m     97\u001b[0m state \u001b[39m=\u001b[39m torch\u001b[39m.\u001b[39mtensor(state, device\u001b[39m=\u001b[39m\u001b[39mself\u001b[39m\u001b[39m.\u001b[39mdevice)\n\u001b[0;32m     98\u001b[0m next_state \u001b[39m=\u001b[39m torch\u001b[39m.\u001b[39mtensor(next_state, device\u001b[39m=\u001b[39m\u001b[39mself\u001b[39m\u001b[39m.\u001b[39mdevice)\n",
      "File \u001b[1;32m<__array_function__ internals>:180\u001b[0m, in \u001b[0;36mstack\u001b[1;34m(*args, **kwargs)\u001b[0m\n",
      "File \u001b[1;32mc:\\Users\\mike\\AppData\\Local\\Programs\\Python\\Python310\\lib\\site-packages\\numpy\\core\\shape_base.py:426\u001b[0m, in \u001b[0;36mstack\u001b[1;34m(arrays, axis, out)\u001b[0m\n\u001b[0;32m    424\u001b[0m shapes \u001b[39m=\u001b[39m {arr\u001b[39m.\u001b[39mshape \u001b[39mfor\u001b[39;00m arr \u001b[39min\u001b[39;00m arrays}\n\u001b[0;32m    425\u001b[0m \u001b[39mif\u001b[39;00m \u001b[39mlen\u001b[39m(shapes) \u001b[39m!=\u001b[39m \u001b[39m1\u001b[39m:\n\u001b[1;32m--> 426\u001b[0m     \u001b[39mraise\u001b[39;00m \u001b[39mValueError\u001b[39;00m(\u001b[39m'\u001b[39m\u001b[39mall input arrays must have the same shape\u001b[39m\u001b[39m'\u001b[39m)\n\u001b[0;32m    428\u001b[0m result_ndim \u001b[39m=\u001b[39m arrays[\u001b[39m0\u001b[39m]\u001b[39m.\u001b[39mndim \u001b[39m+\u001b[39m \u001b[39m1\u001b[39m\n\u001b[0;32m    429\u001b[0m axis \u001b[39m=\u001b[39m normalize_axis_index(axis, result_ndim)\n",
      "\u001b[1;31mValueError\u001b[0m: all input arrays must have the same shape"
     ]
    },
    {
     "data": {
      "text/plain": [
       "<Figure size 432x288 with 0 Axes>"
      ]
     },
     "metadata": {},
     "output_type": "display_data"
    }
   ],
   "source": [
    "e = -1\n",
    "while deer.curr_step < total_steps or tiger.curr_step < total_steps:\n",
    "    e = e + 1\n",
    "# for e in range(total_episodes):\n",
    "    print(\"Episode: \", e)\n",
    "    env.reset(seed=None)\n",
    "    agents_prev_data = {}\n",
    "    # Play the game!\n",
    "    for agent in env.agent_iter():\n",
    "        \n",
    "        observation, reward, termination, truncation, info = env.last()\n",
    "        observation = np.transpose(observation, (2,0,1))\n",
    "        done = termination or truncation\n",
    "        agentType = get_agent_type_from_agent_name(agent)\n",
    "\n",
    "        # instantiate previous data\n",
    "        if agent not in agents_prev_data.keys():\n",
    "            action, actual_action = generate_first_action(agentType)\n",
    "            agents_prev_data[agent] = [observation, action, done, actual_action, None, None, reward,  info]\n",
    "            env.step(actual_action)\n",
    "            continue\n",
    "        \n",
    "        prev_observation, prev_action, prev_done, prev_actual_action, hidden, cell = agents_prev_data[agent][0:6]\n",
    "        \n",
    "        if not prev_done:\n",
    "            if 'tiger' in agentType:\n",
    "                if activeTiger:\n",
    "                    tiger.cache(prev_observation, observation, hidden, cell, prev_action, reward, done)\n",
    "                    #learn\n",
    "                    q, loss = tiger.learn()\n",
    "                    # logging\n",
    "                    tiger_logger.log_step(reward, loss, q)\n",
    "                action, (hidden, cell) = tiger.act(observation, hidden, cell, activeTiger)\n",
    "                actual_action = tiger_action_mapper(action, prev_actual_action)\n",
    "            else:\n",
    "                if activeDeer:\n",
    "                    deer.cache(prev_observation, observation, hidden, cell, prev_action, reward, done)\n",
    "                    #learn\n",
    "                    q, loss = deer.learn()\n",
    "                    # logging\n",
    "                    deer_logger.log_step(reward, loss, q)\n",
    "                action, (hidden, cell) = deer.act(observation, hidden, cell, activeDeer)\n",
    "                actual_action = deer_action_mapper(action, prev_actual_action)\n",
    "        \n",
    "        if done:\n",
    "            action = None\n",
    "            actual_action = None\n",
    "        \n",
    "        agents_prev_data[agent] = [observation, action, done, actual_action, hidden, cell, reward,  info]\n",
    "        env.step(actual_action)\n",
    "        \n",
    "\n",
    "    deer_logger.log_episode()\n",
    "    tiger_logger.log_episode()\n",
    "\n",
    "    if e % 5 == 0:\n",
    "        deer_logger.record(episode=e, epsilon=deer.exploration_rate, step=deer.curr_step)\n",
    "        tiger_logger.record(episode=e, epsilon=tiger.exploration_rate, step=tiger.curr_step)\n",
    "    if switching:\n",
    "        activeDeer, activeTiger = change_active_model(activeDeer, activeTiger, deer.curr_step, tiger.curr_step, steps_to_switch_at)\n",
    "\n",
    "# log last episode\n",
    "# if total_episodes != 0:\n",
    "deer_logger.record(episode=e, epsilon=deer.exploration_rate, step=deer.curr_step)\n",
    "tiger_logger.record(episode=e, epsilon=tiger.exploration_rate, step=tiger.curr_step)"
   ]
  },
  {
   "attachments": {},
   "cell_type": "markdown",
   "metadata": {},
   "source": [
    "### Visualize Trained Model"
   ]
  },
  {
   "cell_type": "code",
   "execution_count": 8,
   "metadata": {},
   "outputs": [
    {
     "name": "stdout",
     "output_type": "stream",
     "text": [
      "Episode:  0\n"
     ]
    },
    {
     "ename": "TypeError",
     "evalue": "Animal.act() missing 1 required positional argument: 'cell'",
     "output_type": "error",
     "traceback": [
      "\u001b[1;31m---------------------------------------------------------------------------\u001b[0m",
      "\u001b[1;31mTypeError\u001b[0m                                 Traceback (most recent call last)",
      "\u001b[1;32md:\\TempSync\\CS7643\\The-Learning-Shoal\\src\\tests\\scott_tests\\tiger_deer_scott_lstm.ipynb Cell 13\u001b[0m in \u001b[0;36m<cell line: 3>\u001b[1;34m()\u001b[0m\n\u001b[0;32m     <a href='vscode-notebook-cell:/d%3A/TempSync/CS7643/The-Learning-Shoal/src/tests/scott_tests/tiger_deer_scott_lstm.ipynb#X15sZmlsZQ%3D%3D?line=31'>32</a>\u001b[0m         actual_action \u001b[39m=\u001b[39m tiger_action_mapper(action, prev_actual_action)\n\u001b[0;32m     <a href='vscode-notebook-cell:/d%3A/TempSync/CS7643/The-Learning-Shoal/src/tests/scott_tests/tiger_deer_scott_lstm.ipynb#X15sZmlsZQ%3D%3D?line=32'>33</a>\u001b[0m     \u001b[39melse\u001b[39;00m:\n\u001b[0;32m     <a href='vscode-notebook-cell:/d%3A/TempSync/CS7643/The-Learning-Shoal/src/tests/scott_tests/tiger_deer_scott_lstm.ipynb#X15sZmlsZQ%3D%3D?line=33'>34</a>\u001b[0m         \u001b[39m# deer.cache(prev_observation, observation, prev_action, reward, done, agentName=agent)\u001b[39;00m\n\u001b[0;32m     <a href='vscode-notebook-cell:/d%3A/TempSync/CS7643/The-Learning-Shoal/src/tests/scott_tests/tiger_deer_scott_lstm.ipynb#X15sZmlsZQ%3D%3D?line=34'>35</a>\u001b[0m         \u001b[39m# action =\u001b[39;00m\n\u001b[1;32m---> <a href='vscode-notebook-cell:/d%3A/TempSync/CS7643/The-Learning-Shoal/src/tests/scott_tests/tiger_deer_scott_lstm.ipynb#X15sZmlsZQ%3D%3D?line=35'>36</a>\u001b[0m         action \u001b[39m=\u001b[39m deer\u001b[39m.\u001b[39;49mact(observation, \u001b[39mFalse\u001b[39;49;00m)\n\u001b[0;32m     <a href='vscode-notebook-cell:/d%3A/TempSync/CS7643/The-Learning-Shoal/src/tests/scott_tests/tiger_deer_scott_lstm.ipynb#X15sZmlsZQ%3D%3D?line=36'>37</a>\u001b[0m         actual_action \u001b[39m=\u001b[39m deer_action_mapper(action, prev_actual_action)\n\u001b[0;32m     <a href='vscode-notebook-cell:/d%3A/TempSync/CS7643/The-Learning-Shoal/src/tests/scott_tests/tiger_deer_scott_lstm.ipynb#X15sZmlsZQ%3D%3D?line=37'>38</a>\u001b[0m \u001b[39melse\u001b[39;00m:\n",
      "\u001b[1;31mTypeError\u001b[0m: Animal.act() missing 1 required positional argument: 'cell'"
     ]
    }
   ],
   "source": [
    "env = tiger_deer_v4.env(map_size=map_size, minimap_mode=False, render_mode='human', max_cycles=max_cycles, extra_features=False)\n",
    "example_episodes = 10\n",
    "for e in range(example_episodes):\n",
    "    print(\"Episode: \", e)\n",
    "    env.reset(seed=None)\n",
    "    # Play the game!\n",
    "    agents_prev_data = {}\n",
    "    init_agent = None\n",
    "    for agent in env.agent_iter():\n",
    "        if init_agent is None:\n",
    "            init_agent = agent\n",
    "        else:\n",
    "            if init_agent == agent:\n",
    "                time.sleep(0.01)\n",
    "\n",
    "        observation, reward, termination, truncation, info = env.last()\n",
    "        observation = np.transpose(observation, (2,0,1))\n",
    "        done = termination or truncation\n",
    "        agentType = get_agent_type_from_agent_name(agent)\n",
    "        # instantiate previous data\n",
    "        if agent not in agents_prev_data.keys():\n",
    "            action, actual_action = generate_first_action(agentType)\n",
    "            agents_prev_data[agent] = [observation, action, done, action, actual_action, info]\n",
    "            env.step(actual_action)\n",
    "            continue\n",
    "\n",
    "        prev_actual_action = agents_prev_data[agent][3]\n",
    "        if not done:\n",
    "            if 'tiger' in agentType:\n",
    "                # tiger.cache(prev_observation, observation, prev_action, reward, done, agentName=agent)\n",
    "                action = tiger.act(observation, False)\n",
    "                actual_action = tiger_action_mapper(action, prev_actual_action)\n",
    "            else:\n",
    "                # deer.cache(prev_observation, observation, prev_action, reward, done, agentName=agent)\n",
    "                # action =\n",
    "                action = deer.act(observation, False)\n",
    "                actual_action = deer_action_mapper(action, prev_actual_action)\n",
    "        else:\n",
    "            action = None\n",
    "            actual_action = None\n",
    "        agents_prev_data[agent] = [observation, action, done, action, actual_action, info]\n",
    "        env.step(actual_action)\n",
    "    "
   ]
  },
  {
   "cell_type": "code",
   "execution_count": null,
   "metadata": {},
   "outputs": [],
   "source": []
  }
 ],
 "metadata": {
  "kernelspec": {
   "display_name": "base",
   "language": "python",
   "name": "python3"
  },
  "language_info": {
   "codemirror_mode": {
    "name": "ipython",
    "version": 3
   },
   "file_extension": ".py",
   "mimetype": "text/x-python",
   "name": "python",
   "nbconvert_exporter": "python",
   "pygments_lexer": "ipython3",
   "version": "3.9.13"
  },
  "orig_nbformat": 4
 },
 "nbformat": 4,
 "nbformat_minor": 2
}
