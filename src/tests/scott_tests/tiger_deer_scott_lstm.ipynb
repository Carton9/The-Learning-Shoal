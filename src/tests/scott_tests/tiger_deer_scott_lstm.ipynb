{
 "cells": [
  {
   "cell_type": "code",
   "execution_count": 1,
   "metadata": {},
   "outputs": [],
   "source": [
    "from magent2.environments import battle_v4, adversarial_pursuit_v4, tiger_deer_v4\n",
    "from pettingzoo.utils import random_demo\n",
    "import torch\n",
    "import time\n",
    "# import torch.nn as nn\n",
    "# import torch.optim as optim\n",
    "# import torch.nn.functional as F\n",
    "# from dqn_basic import DQN_Basic\n",
    "from collections import namedtuple, deque\n",
    "import numpy as np\n",
    "# import matplotlib.pyplot as plt\n",
    "from AnimalLSTM import Animal\n",
    "from pathlib import Path\n",
    "from collections import deque\n",
    "import datetime, os\n",
    "from metric_logger import MetricLogger\n",
    "import os\n",
    "os.environ[\"KMP_DUPLICATE_LIB_OK\"]=\"TRUE\""
   ]
  },
  {
   "cell_type": "code",
   "execution_count": 2,
   "metadata": {},
   "outputs": [
    {
     "name": "stdout",
     "output_type": "stream",
     "text": [
      "Number of Deer: 80\n",
      "Number of Tigers: 8\n",
      "Deer Observations: (21, 9, 9) Tiger Observations: (29, 12, 12)\n"
     ]
    },
    {
     "name": "stderr",
     "output_type": "stream",
     "text": [
      "c:\\Users\\Scott\\a3\\lib\\site-packages\\pettingzoo\\utils\\wrappers\\base.py:50: UserWarning: The `observation_spaces` dictionary is deprecated. Use the `observation_space` function instead.\n",
      "  warnings.warn(\n"
     ]
    }
   ],
   "source": [
    "device = torch.device(\"cuda\" if torch.cuda.is_available() else \"cpu\")\n",
    "# frame_size = (128, 128)\n",
    "max_cycles = 300\n",
    "# total_episodes = 50\n",
    "map_size = 40\n",
    "\n",
    "# env = tiger_deer_v4.env(map_size=map_size, minimap_mode=False, render_mode='human', tiger_step_recover=-0.1, deer_attacked=-0.1, max_cycles=max_cycles, extra_features=False)\n",
    "env = tiger_deer_v4.env(map_size=map_size, minimap_mode=False, render_mode='rgb_array', max_cycles=max_cycles, extra_features=True)\n",
    "env.reset(seed=None)\n",
    "\n",
    "number_of_deer = len([x for x in env.agents if 'deer' in x])\n",
    "print(\"Number of Deer:\",number_of_deer)\n",
    "number_of_tigers = len([x for x in env.agents if 'tiger' in x])\n",
    "print(\"Number of Tigers:\", number_of_tigers)\n",
    "deer_observation_shape = env.observation_spaces['deer_0'].shape\n",
    "deer_observation_shape = tuple(np.roll(deer_observation_shape,1))\n",
    "# deer_action_space = env.action_spaces['deer_0'].n\n",
    "deer_action_space = 3\n",
    "\n",
    "tiger_observation_shape = env.observation_spaces['tiger_0'].shape\n",
    "tiger_observation_shape = tuple(np.roll(tiger_observation_shape,1))\n",
    "# tiger_action_space = env.action_spaces['tiger_0'].n\n",
    "tiger_action_space = 6\n",
    "\n",
    "print(\"Deer Observations:\", deer_observation_shape, \"Tiger Observations:\",tiger_observation_shape)\n",
    "assert deer_observation_shape != None\n",
    "assert tiger_observation_shape != None\n",
    "# 'rgb_array' or 'human'\n",
    "# random_demo(env, render=False , episodes=1)\n",
    "# 'rgb_array'\n",
    "# pygame.quit()"
   ]
  },
  {
   "cell_type": "code",
   "execution_count": 3,
   "metadata": {},
   "outputs": [],
   "source": [
    "deer_action_mapping = {\n",
    "    0: {0: 0, 1: 1, 3: 3, 4: 4},\n",
    "    1: {0: 1, 1: 4, 3: 0, 4: 3},\n",
    "    2: {0: 3, 1: 0, 3: 4, 4: 1},\n",
    "}\n",
    "def deer_action_mapper(new_unmapped_action, prev_actual_action, size_of_actions=5):\n",
    "    global deer_action_mapping\n",
    "    return deer_action_mapping.get(new_unmapped_action, {}).get(prev_actual_action, np.random.choice(np.delete(np.arange(0, size_of_actions), 2)))\n",
    "\n",
    "tiger_action_mapping = {\n",
    "    0: {0: 0, 1: 1, 3: 3, 4: 4},\n",
    "    1: {0: 1, 1: 4, 3: 0, 4: 3},\n",
    "    2: {0: 3, 1: 0, 3: 4, 4: 1},\n",
    "    3: {0: 5, 1: 6, 3: 7, 4: 8},\n",
    "    4: {0: 6, 1: 8, 3: 5, 4: 7},\n",
    "    5: {0: 7, 1: 5, 3: 8, 4: 6},\n",
    "}\n",
    "\n",
    "tiger_direction_mapping = {\n",
    "    0: 0,\n",
    "    1: 1,\n",
    "    3: 3,\n",
    "    4: 4,\n",
    "    5: 0,\n",
    "    6: 1,\n",
    "    7: 3,\n",
    "    8: 4,\n",
    "}\n",
    "\n",
    "def tiger_action_mapper(new_action, prev_action, size_of_actions=5): # slower\n",
    "    global tiger_action_mapping, tiger_direction_mapping\n",
    "    direction = tiger_direction_mapping.get(prev_action, 0)\n",
    "    return tiger_action_mapping.get(new_action, {}).get(direction, 0)\n",
    "\n",
    "def mask_observations(observations, prev_actual_action):\n",
    "    current_position = (observations.shape[1] // 2, observations.shape[2] // 2)\n",
    "    direction = tiger_direction_mapping.get(prev_actual_action, 0)\n",
    "    # print(observations)\n",
    "    if direction == 0:  # Up\n",
    "        observations[:, current_position[0]:, :] = 0\n",
    "    elif direction == 1:  # Left\n",
    "        observations[:, :, current_position[1]:] = 0\n",
    "    elif direction == 3:  # Right\n",
    "        observations[:, :, :current_position[1]] = 0\n",
    "    elif direction == 4:  # Down\n",
    "        observations[:, :current_position[0]+1, :] = 0\n",
    "    else:\n",
    "        raise ValueError(\"Direction mapping issue for mask observations\")\n",
    "    # print(\"direction: \", direction, \" observations: \", observations)\n",
    "    "
   ]
  },
  {
   "cell_type": "code",
   "execution_count": 4,
   "metadata": {},
   "outputs": [],
   "source": [
    "def get_agent_type_from_agent_name(agent):\n",
    "    if 'tiger' in agent:\n",
    "        return 'tiger'\n",
    "    return 'deer'"
   ]
  },
  {
   "cell_type": "code",
   "execution_count": 5,
   "metadata": {},
   "outputs": [],
   "source": [
    "def generate_first_action(agentType):\n",
    "    if 'tiger' in agentType:\n",
    "        # action = np.random.randint(0,tiger_action_space,(1,))[0]\n",
    "        action = np.random.choice(np.arange(0, 6))\n",
    "        previous_actual_action = np.random.choice(np.delete(np.arange(0, 9), 2))\n",
    "        actual_action = tiger_action_mapper(action, previous_actual_action)\n",
    "    else:\n",
    "        # action = np.random.randint(0,deer_action_space,(1,))[0]\n",
    "        action = np.random.choice(np.arange(0, 3))\n",
    "        previous_actual_action = np.random.choice(np.delete(np.arange(0, 5), 2))\n",
    "        actual_action = deer_action_mapper(action, previous_actual_action)\n",
    "    \n",
    "    return action, actual_action, previous_actual_action"
   ]
  },
  {
   "cell_type": "code",
   "execution_count": 6,
   "metadata": {},
   "outputs": [],
   "source": [
    "def change_active_model(activeDeer, activeTiger, deerCurrentSteps, tigerCurrentSteps, steps_to_switch_at_deer, steps_to_switch_at_tiger, total_steps_deer, total_steps_tiger):\n",
    "    if deerCurrentSteps >= total_steps_deer:\n",
    "        return False, True\n",
    "    if tigerCurrentSteps >= total_steps_tiger:\n",
    "        return True, False\n",
    "    if deerCurrentSteps//steps_to_switch_at_deer < tigerCurrentSteps//steps_to_switch_at_tiger:\n",
    "        # if not activeDeer:\n",
    "        #     print(\"Switching to Deer\")\n",
    "        return True, False\n",
    "    if tigerCurrentSteps//steps_to_switch_at_tiger < deerCurrentSteps//steps_to_switch_at_deer:\n",
    "        # if not activeTiger:\n",
    "        #     print(\"Switching to Tiger\")\n",
    "        return False, True\n",
    "    return activeDeer, activeTiger"
   ]
  },
  {
   "cell_type": "code",
   "execution_count": 7,
   "metadata": {},
   "outputs": [],
   "source": [
    "def custom_reward_modifier(agentType, observation, reward, agents_prev_data):\n",
    "    return\n",
    "    if 'tiger' in agentType:\n",
    "        pass\n",
    "    else:\n",
    "        # print(\"reward\", reward)\n",
    "        # print(\"reward type\", type(reward))\n",
    "        # print(\"Action\", observation[-6:-1,:,:])\n",
    "        # print(\"Last reward\",observation[-1,:,:])\n",
    "        pass"
   ]
  },
  {
   "attachments": {},
   "cell_type": "markdown",
   "metadata": {},
   "source": [
    "## Train Model"
   ]
  },
  {
   "attachments": {},
   "cell_type": "markdown",
   "metadata": {},
   "source": [
    "### Make Models and Loggers"
   ]
  },
  {
   "cell_type": "code",
   "execution_count": 8,
   "metadata": {},
   "outputs": [
    {
     "name": "stdout",
     "output_type": "stream",
     "text": [
      "Using CUDA: True\n",
      "\n"
     ]
    },
    {
     "name": "stderr",
     "output_type": "stream",
     "text": [
      "c:\\Users\\Scott\\a3\\lib\\site-packages\\torch\\nn\\modules\\lazy.py:180: UserWarning: Lazy modules are a new feature under heavy development so changes to the API or functionality can happen at any moment.\n",
      "  warnings.warn('Lazy modules are a new feature under heavy development '\n"
     ]
    }
   ],
   "source": [
    "use_cuda = torch.cuda.is_available()\n",
    "print(f\"Using CUDA: {use_cuda}\")\n",
    "print()\n",
    "\n",
    "deer_save_dir = Path(\"deer_checkpoints\") / datetime.datetime.now().strftime(\"%Y-%m-%dT%H-%M-%S\")\n",
    "deer_save_dir.mkdir(parents=True)\n",
    "\n",
    "tiger_save_dir = Path(\"tiger_checkpoints\") / datetime.datetime.now().strftime(\"%Y-%m-%dT%H-%M-%S\")\n",
    "tiger_save_dir.mkdir(parents=True)\n",
    "\n",
    "modelType = 'basic'\n",
    "\n",
    "deer = Animal(state_dim=deer_observation_shape, action_dim=deer_action_space, save_dir=deer_save_dir)\n",
    "tiger = Animal(state_dim=tiger_observation_shape, action_dim=tiger_action_space, save_dir=tiger_save_dir)\n",
    "\n",
    "deer_logger = MetricLogger(deer_save_dir, animal='deer')\n",
    "tiger_logger = MetricLogger(tiger_save_dir, animal='tiger')\n",
    "\n",
    "\n",
    "# active training flags\n",
    "activeDeer = True\n",
    "activeTiger = False\n",
    "\n",
    "\n",
    "# Switch the training set\n",
    "switching = True\n",
    "steps_to_switch_at_deer = 15000\n",
    "steps_to_switch_at_tiger = int((steps_to_switch_at_deer*2)//5)\n",
    "total_steps_deer = 40000\n",
    "total_steps_tiger = int((total_steps_deer//3))\n",
    "\n",
    "# divide steps to switch at to actually switch at the proper requested switching steps\n",
    "# steps_to_switch_at = steps_to_switch_at//2\n",
    "# if switching enabled, make sure no equivalence between active variables\n",
    "if switching:\n",
    "    if activeDeer == activeTiger:\n",
    "        activeTiger = not activeTiger"
   ]
  },
  {
   "attachments": {},
   "cell_type": "markdown",
   "metadata": {},
   "source": [
    "### Train Model"
   ]
  },
  {
   "cell_type": "code",
   "execution_count": 9,
   "metadata": {},
   "outputs": [
    {
     "name": "stdout",
     "output_type": "stream",
     "text": [
      "Number of Tigers: 8\n",
      "Number of Deer: 80\n",
      "Animal saved to deer_checkpoints\\2023-04-25T14-43-33\\animal_net_0.chkpt at step 0\n"
     ]
    },
    {
     "name": "stderr",
     "output_type": "stream",
     "text": [
      "c:\\Users\\Scott\\OneDrive - Georgia Institute of Technology\\Georgia Tech\\GTSR\\Underwater Platforms\\Python_Code\\TheLearningShoal\\The-Learning-Shoal\\src\\tests\\scott_tests\\AnimalLSTM.py:49: UserWarning: To copy construct from a tensor, it is recommended to use sourceTensor.clone().detach() or sourceTensor.clone().detach().requires_grad_(True), rather than torch.tensor(sourceTensor).\n",
      "  hidden = torch.tensor(hidden, device=self.device) #.unsqueeze(0)\n",
      "c:\\Users\\Scott\\OneDrive - Georgia Institute of Technology\\Georgia Tech\\GTSR\\Underwater Platforms\\Python_Code\\TheLearningShoal\\The-Learning-Shoal\\src\\tests\\scott_tests\\AnimalLSTM.py:50: UserWarning: To copy construct from a tensor, it is recommended to use sourceTensor.clone().detach() or sourceTensor.clone().detach().requires_grad_(True), rather than torch.tensor(sourceTensor).\n",
      "  cell = torch.tensor(cell, device=self.device) #.unsqueeze(0)\n"
     ]
    },
    {
     "name": "stdout",
     "output_type": "stream",
     "text": [
      "Episode 0 - deer - Step 19445 - Epsilon 0.9951505461469969 - Mean Reward -31.73 - Mean Length 19445.0 - Mean Loss 0.001 - Mean Q Value -0.008 - Time Delta 55.283 - Time 2023-04-25T14:44:30\n",
      "Animal saved to tiger_checkpoints\\2023-04-25T14-43-33\\animal_net_0.chkpt at step 0\n",
      "Episode 1 - tiger - Step 1527 - Epsilon 0.9996183228095054 - Mean Reward 15.5 - Mean Length 763.5 - Mean Loss 0.0 - Mean Q Value 0.0 - Time Delta 75.476 - Time 2023-04-25T14:44:50\n",
      "Episode 2 - tiger - Step 3435 - Epsilon 0.9991416185128847 - Mean Reward 22.333 - Mean Length 1145.0 - Mean Loss 0.0 - Mean Q Value 0.0 - Time Delta 21.52 - Time 2023-04-25T14:45:11\n",
      "Episode 3 - tiger - Step 5570 - Epsilon 0.998608468904245 - Mean Reward 26.0 - Mean Length 1392.5 - Mean Loss 0.0 - Mean Q Value 0.0 - Time Delta 21.105 - Time 2023-04-25T14:45:33\n",
      "Episode 4 - tiger - Step 7179 - Epsilon 0.9982068593765003 - Mean Reward 27.8 - Mean Length 1435.8 - Mean Loss 0.0 - Mean Q Value 0.0 - Time Delta 19.623 - Time 2023-04-25T14:45:52\n",
      "Episode 5 - tiger - Step 8686 - Epsilon 0.9978308557293102 - Mean Reward 27.833 - Mean Length 1447.667 - Mean Loss 0.0 - Mean Q Value 0.0 - Time Delta 19.995 - Time 2023-04-25T14:46:12\n",
      "Episode 6 - tiger - Step 10174 - Epsilon 0.9974597316378969 - Mean Reward 27.429 - Mean Length 1453.429 - Mean Loss 0.001 - Mean Q Value 0.003 - Time Delta 22.781 - Time 2023-04-25T14:46:35\n"
     ]
    },
    {
     "ename": "KeyboardInterrupt",
     "evalue": "",
     "output_type": "error",
     "traceback": [
      "\u001b[1;31m---------------------------------------------------------------------------\u001b[0m",
      "\u001b[1;31mKeyboardInterrupt\u001b[0m                         Traceback (most recent call last)",
      "\u001b[1;32m~\\AppData\\Local\\Temp\\ipykernel_25060\\944853729.py\u001b[0m in \u001b[0;36m<module>\u001b[1;34m\u001b[0m\n\u001b[0;32m     48\u001b[0m                     \u001b[1;31m# logging\u001b[0m\u001b[1;33m\u001b[0m\u001b[1;33m\u001b[0m\u001b[0m\n\u001b[0;32m     49\u001b[0m                     \u001b[0mdeer_logger\u001b[0m\u001b[1;33m.\u001b[0m\u001b[0mlog_step\u001b[0m\u001b[1;33m(\u001b[0m\u001b[0mreward\u001b[0m\u001b[1;33m,\u001b[0m \u001b[0mloss\u001b[0m\u001b[1;33m,\u001b[0m \u001b[0mq\u001b[0m\u001b[1;33m)\u001b[0m\u001b[1;33m\u001b[0m\u001b[1;33m\u001b[0m\u001b[0m\n\u001b[1;32m---> 50\u001b[1;33m                 \u001b[0maction\u001b[0m\u001b[1;33m,\u001b[0m \u001b[1;33m(\u001b[0m\u001b[0mhidden\u001b[0m\u001b[1;33m,\u001b[0m \u001b[0mcell\u001b[0m\u001b[1;33m)\u001b[0m \u001b[1;33m=\u001b[0m \u001b[0mdeer\u001b[0m\u001b[1;33m.\u001b[0m\u001b[0mact\u001b[0m\u001b[1;33m(\u001b[0m\u001b[0mobservation\u001b[0m\u001b[1;33m,\u001b[0m \u001b[0mhidden\u001b[0m\u001b[1;33m,\u001b[0m \u001b[0mcell\u001b[0m\u001b[1;33m,\u001b[0m \u001b[0mactiveDeer\u001b[0m\u001b[1;33m)\u001b[0m\u001b[1;33m\u001b[0m\u001b[1;33m\u001b[0m\u001b[0m\n\u001b[0m\u001b[0;32m     51\u001b[0m                 \u001b[0mactual_action\u001b[0m \u001b[1;33m=\u001b[0m \u001b[0mdeer_action_mapper\u001b[0m\u001b[1;33m(\u001b[0m\u001b[0maction\u001b[0m\u001b[1;33m,\u001b[0m \u001b[0mprev_actual_action\u001b[0m\u001b[1;33m)\u001b[0m\u001b[1;33m\u001b[0m\u001b[1;33m\u001b[0m\u001b[0m\n\u001b[0;32m     52\u001b[0m \u001b[1;33m\u001b[0m\u001b[0m\n",
      "\u001b[1;32mc:\\Users\\Scott\\OneDrive - Georgia Institute of Technology\\Georgia Tech\\GTSR\\Underwater Platforms\\Python_Code\\TheLearningShoal\\The-Learning-Shoal\\src\\tests\\scott_tests\\AnimalLSTM.py\u001b[0m in \u001b[0;36mact\u001b[1;34m(self, state, hidden, cell, active)\u001b[0m\n\u001b[0;32m     54\u001b[0m         \u001b[1;31m# EXPLORE\u001b[0m\u001b[1;33m\u001b[0m\u001b[1;33m\u001b[0m\u001b[0m\n\u001b[0;32m     55\u001b[0m         \u001b[1;32mif\u001b[0m \u001b[0mnp\u001b[0m\u001b[1;33m.\u001b[0m\u001b[0mrandom\u001b[0m\u001b[1;33m.\u001b[0m\u001b[0mrand\u001b[0m\u001b[1;33m(\u001b[0m\u001b[1;33m)\u001b[0m \u001b[1;33m<\u001b[0m \u001b[0mself\u001b[0m\u001b[1;33m.\u001b[0m\u001b[0mexploration_rate\u001b[0m\u001b[1;33m:\u001b[0m\u001b[1;33m\u001b[0m\u001b[1;33m\u001b[0m\u001b[0m\n\u001b[1;32m---> 56\u001b[1;33m             \u001b[0m_\u001b[0m\u001b[1;33m,\u001b[0m \u001b[1;33m(\u001b[0m\u001b[0mhidden\u001b[0m\u001b[1;33m,\u001b[0m \u001b[0mcell\u001b[0m\u001b[1;33m)\u001b[0m \u001b[1;33m=\u001b[0m \u001b[0mself\u001b[0m\u001b[1;33m.\u001b[0m\u001b[0mnet\u001b[0m\u001b[1;33m.\u001b[0m\u001b[0mforward\u001b[0m\u001b[1;33m(\u001b[0m\u001b[0mstate\u001b[0m\u001b[1;33m,\u001b[0m \u001b[0mmodel\u001b[0m\u001b[1;33m=\u001b[0m\u001b[1;34m\"online\"\u001b[0m\u001b[1;33m,\u001b[0m \u001b[0mhidden_state\u001b[0m\u001b[1;33m=\u001b[0m\u001b[0mhidden\u001b[0m\u001b[1;33m,\u001b[0m \u001b[0mcell_state\u001b[0m\u001b[1;33m=\u001b[0m\u001b[0mcell\u001b[0m\u001b[1;33m)\u001b[0m\u001b[1;33m\u001b[0m\u001b[1;33m\u001b[0m\u001b[0m\n\u001b[0m\u001b[0;32m     57\u001b[0m             \u001b[0maction_idx\u001b[0m \u001b[1;33m=\u001b[0m \u001b[0mnp\u001b[0m\u001b[1;33m.\u001b[0m\u001b[0mrandom\u001b[0m\u001b[1;33m.\u001b[0m\u001b[0mrandint\u001b[0m\u001b[1;33m(\u001b[0m\u001b[0mself\u001b[0m\u001b[1;33m.\u001b[0m\u001b[0maction_dim\u001b[0m\u001b[1;33m)\u001b[0m\u001b[1;33m\u001b[0m\u001b[1;33m\u001b[0m\u001b[0m\n\u001b[0;32m     58\u001b[0m \u001b[1;33m\u001b[0m\u001b[0m\n",
      "\u001b[1;32mc:\\Users\\Scott\\OneDrive - Georgia Institute of Technology\\Georgia Tech\\GTSR\\Underwater Platforms\\Python_Code\\TheLearningShoal\\The-Learning-Shoal\\src\\tests\\scott_tests\\dqn_LSTM.py\u001b[0m in \u001b[0;36mforward\u001b[1;34m(self, input, model, hidden_state, cell_state)\u001b[0m\n\u001b[0;32m     58\u001b[0m             \u001b[1;31m# if hidden_state is not None:\u001b[0m\u001b[1;33m\u001b[0m\u001b[1;33m\u001b[0m\u001b[0m\n\u001b[0;32m     59\u001b[0m             \u001b[1;31m#     print(\"hidden before:\", hidden_state.shape)\u001b[0m\u001b[1;33m\u001b[0m\u001b[1;33m\u001b[0m\u001b[0m\n\u001b[1;32m---> 60\u001b[1;33m             \u001b[0moutput\u001b[0m\u001b[1;33m,\u001b[0m \u001b[1;33m(\u001b[0m\u001b[0mhidden\u001b[0m\u001b[1;33m,\u001b[0m \u001b[0mcell\u001b[0m\u001b[1;33m)\u001b[0m \u001b[1;33m=\u001b[0m \u001b[0mself\u001b[0m\u001b[1;33m.\u001b[0m\u001b[0monline\u001b[0m\u001b[1;33m[\u001b[0m\u001b[1;33m-\u001b[0m\u001b[1;36m3\u001b[0m\u001b[1;33m]\u001b[0m\u001b[1;33m(\u001b[0m\u001b[0mfeatures\u001b[0m\u001b[1;33m,\u001b[0m \u001b[0mhidden_state\u001b[0m\u001b[1;33m,\u001b[0m \u001b[0mcell_state\u001b[0m\u001b[1;33m)\u001b[0m\u001b[1;33m\u001b[0m\u001b[1;33m\u001b[0m\u001b[0m\n\u001b[0m\u001b[0;32m     61\u001b[0m             \u001b[1;31m# print(\"hidden:\", hidden.shape)\u001b[0m\u001b[1;33m\u001b[0m\u001b[1;33m\u001b[0m\u001b[0m\n\u001b[0;32m     62\u001b[0m             \u001b[0moutput\u001b[0m \u001b[1;33m=\u001b[0m \u001b[0mF\u001b[0m\u001b[1;33m.\u001b[0m\u001b[0mrelu\u001b[0m\u001b[1;33m(\u001b[0m\u001b[0moutput\u001b[0m\u001b[1;33m)\u001b[0m\u001b[1;33m\u001b[0m\u001b[1;33m\u001b[0m\u001b[0m\n",
      "\u001b[1;32mc:\\Users\\Scott\\a3\\lib\\site-packages\\torch\\nn\\modules\\module.py\u001b[0m in \u001b[0;36m_call_impl\u001b[1;34m(self, *input, **kwargs)\u001b[0m\n\u001b[0;32m   1192\u001b[0m         if not (self._backward_hooks or self._forward_hooks or self._forward_pre_hooks or _global_backward_hooks\n\u001b[0;32m   1193\u001b[0m                 or _global_forward_hooks or _global_forward_pre_hooks):\n\u001b[1;32m-> 1194\u001b[1;33m             \u001b[1;32mreturn\u001b[0m \u001b[0mforward_call\u001b[0m\u001b[1;33m(\u001b[0m\u001b[1;33m*\u001b[0m\u001b[0minput\u001b[0m\u001b[1;33m,\u001b[0m \u001b[1;33m**\u001b[0m\u001b[0mkwargs\u001b[0m\u001b[1;33m)\u001b[0m\u001b[1;33m\u001b[0m\u001b[1;33m\u001b[0m\u001b[0m\n\u001b[0m\u001b[0;32m   1195\u001b[0m         \u001b[1;31m# Do not call functions when jit is used\u001b[0m\u001b[1;33m\u001b[0m\u001b[1;33m\u001b[0m\u001b[0m\n\u001b[0;32m   1196\u001b[0m         \u001b[0mfull_backward_hooks\u001b[0m\u001b[1;33m,\u001b[0m \u001b[0mnon_full_backward_hooks\u001b[0m \u001b[1;33m=\u001b[0m \u001b[1;33m[\u001b[0m\u001b[1;33m]\u001b[0m\u001b[1;33m,\u001b[0m \u001b[1;33m[\u001b[0m\u001b[1;33m]\u001b[0m\u001b[1;33m\u001b[0m\u001b[1;33m\u001b[0m\u001b[0m\n",
      "\u001b[1;32mc:\\Users\\Scott\\OneDrive - Georgia Institute of Technology\\Georgia Tech\\GTSR\\Underwater Platforms\\Python_Code\\TheLearningShoal\\The-Learning-Shoal\\src\\tests\\scott_tests\\dqn_LSTM.py\u001b[0m in \u001b[0;36mforward\u001b[1;34m(self, input, hidden_state, cell_state)\u001b[0m\n\u001b[0;32m     14\u001b[0m             \u001b[0moutput\u001b[0m\u001b[1;33m,\u001b[0m \u001b[1;33m(\u001b[0m\u001b[0mhidden\u001b[0m\u001b[1;33m,\u001b[0m \u001b[0mcell\u001b[0m\u001b[1;33m)\u001b[0m \u001b[1;33m=\u001b[0m \u001b[0mself\u001b[0m\u001b[1;33m.\u001b[0m\u001b[0mlstm\u001b[0m\u001b[1;33m(\u001b[0m\u001b[0minput\u001b[0m\u001b[1;33m)\u001b[0m\u001b[1;33m\u001b[0m\u001b[1;33m\u001b[0m\u001b[0m\n\u001b[0;32m     15\u001b[0m         \u001b[1;32melse\u001b[0m\u001b[1;33m:\u001b[0m\u001b[1;33m\u001b[0m\u001b[1;33m\u001b[0m\u001b[0m\n\u001b[1;32m---> 16\u001b[1;33m             \u001b[0moutput\u001b[0m\u001b[1;33m,\u001b[0m \u001b[1;33m(\u001b[0m\u001b[0mhidden\u001b[0m\u001b[1;33m,\u001b[0m \u001b[0mcell\u001b[0m\u001b[1;33m)\u001b[0m \u001b[1;33m=\u001b[0m \u001b[0mself\u001b[0m\u001b[1;33m.\u001b[0m\u001b[0mlstm\u001b[0m\u001b[1;33m(\u001b[0m\u001b[0minput\u001b[0m\u001b[1;33m,\u001b[0m \u001b[1;33m(\u001b[0m\u001b[0mhidden_state\u001b[0m\u001b[1;33m,\u001b[0m \u001b[0mcell_state\u001b[0m\u001b[1;33m)\u001b[0m\u001b[1;33m)\u001b[0m\u001b[1;33m\u001b[0m\u001b[1;33m\u001b[0m\u001b[0m\n\u001b[0m\u001b[0;32m     17\u001b[0m         \u001b[1;32mreturn\u001b[0m \u001b[0moutput\u001b[0m\u001b[1;33m,\u001b[0m \u001b[1;33m(\u001b[0m\u001b[0mhidden\u001b[0m\u001b[1;33m,\u001b[0m \u001b[0mcell\u001b[0m\u001b[1;33m)\u001b[0m\u001b[1;33m\u001b[0m\u001b[1;33m\u001b[0m\u001b[0m\n\u001b[0;32m     18\u001b[0m \u001b[1;33m\u001b[0m\u001b[0m\n",
      "\u001b[1;32mc:\\Users\\Scott\\a3\\lib\\site-packages\\torch\\nn\\modules\\module.py\u001b[0m in \u001b[0;36m_call_impl\u001b[1;34m(self, *input, **kwargs)\u001b[0m\n\u001b[0;32m   1192\u001b[0m         if not (self._backward_hooks or self._forward_hooks or self._forward_pre_hooks or _global_backward_hooks\n\u001b[0;32m   1193\u001b[0m                 or _global_forward_hooks or _global_forward_pre_hooks):\n\u001b[1;32m-> 1194\u001b[1;33m             \u001b[1;32mreturn\u001b[0m \u001b[0mforward_call\u001b[0m\u001b[1;33m(\u001b[0m\u001b[1;33m*\u001b[0m\u001b[0minput\u001b[0m\u001b[1;33m,\u001b[0m \u001b[1;33m**\u001b[0m\u001b[0mkwargs\u001b[0m\u001b[1;33m)\u001b[0m\u001b[1;33m\u001b[0m\u001b[1;33m\u001b[0m\u001b[0m\n\u001b[0m\u001b[0;32m   1195\u001b[0m         \u001b[1;31m# Do not call functions when jit is used\u001b[0m\u001b[1;33m\u001b[0m\u001b[1;33m\u001b[0m\u001b[0m\n\u001b[0;32m   1196\u001b[0m         \u001b[0mfull_backward_hooks\u001b[0m\u001b[1;33m,\u001b[0m \u001b[0mnon_full_backward_hooks\u001b[0m \u001b[1;33m=\u001b[0m \u001b[1;33m[\u001b[0m\u001b[1;33m]\u001b[0m\u001b[1;33m,\u001b[0m \u001b[1;33m[\u001b[0m\u001b[1;33m]\u001b[0m\u001b[1;33m\u001b[0m\u001b[1;33m\u001b[0m\u001b[0m\n",
      "\u001b[1;32mc:\\Users\\Scott\\a3\\lib\\site-packages\\torch\\nn\\modules\\rnn.py\u001b[0m in \u001b[0;36mforward\u001b[1;34m(self, input, hx)\u001b[0m\n\u001b[0;32m    772\u001b[0m         \u001b[0mself\u001b[0m\u001b[1;33m.\u001b[0m\u001b[0mcheck_forward_args\u001b[0m\u001b[1;33m(\u001b[0m\u001b[0minput\u001b[0m\u001b[1;33m,\u001b[0m \u001b[0mhx\u001b[0m\u001b[1;33m,\u001b[0m \u001b[0mbatch_sizes\u001b[0m\u001b[1;33m)\u001b[0m\u001b[1;33m\u001b[0m\u001b[1;33m\u001b[0m\u001b[0m\n\u001b[0;32m    773\u001b[0m         \u001b[1;32mif\u001b[0m \u001b[0mbatch_sizes\u001b[0m \u001b[1;32mis\u001b[0m \u001b[1;32mNone\u001b[0m\u001b[1;33m:\u001b[0m\u001b[1;33m\u001b[0m\u001b[1;33m\u001b[0m\u001b[0m\n\u001b[1;32m--> 774\u001b[1;33m             result = _VF.lstm(input, hx, self._flat_weights, self.bias, self.num_layers,\n\u001b[0m\u001b[0;32m    775\u001b[0m                               self.dropout, self.training, self.bidirectional, self.batch_first)\n\u001b[0;32m    776\u001b[0m         \u001b[1;32melse\u001b[0m\u001b[1;33m:\u001b[0m\u001b[1;33m\u001b[0m\u001b[1;33m\u001b[0m\u001b[0m\n",
      "\u001b[1;31mKeyboardInterrupt\u001b[0m: "
     ]
    },
    {
     "data": {
      "text/plain": [
       "<Figure size 640x480 with 0 Axes>"
      ]
     },
     "metadata": {},
     "output_type": "display_data"
    }
   ],
   "source": [
    "print(\"Number of Tigers:\", number_of_tigers)\n",
    "print(\"Number of Deer:\",number_of_deer)\n",
    "\n",
    "e = -1\n",
    "while deer.curr_step < total_steps_deer or tiger.curr_step < total_steps_tiger:\n",
    "    e = e + 1\n",
    "# for e in range(total_episodes):\n",
    "    # print(\"Episode: \", e)\n",
    "    env.reset(seed=None)\n",
    "    agents_prev_data = {}\n",
    "    # Play the game!\n",
    "    for agent in env.agent_iter():\n",
    "\n",
    "        agentType = get_agent_type_from_agent_name(agent)\n",
    "        \n",
    "        observation, reward, termination, truncation, info = env.last()\n",
    "        observation = np.transpose(observation, (2,0,1))\n",
    "        done = termination or truncation\n",
    "        \n",
    "\n",
    "        # instantiate previous data\n",
    "        if agent not in agents_prev_data.keys():\n",
    "            action, actual_action, prev_actual_action = generate_first_action(agentType)\n",
    "            mask_observations(observation, prev_actual_action)\n",
    "            agents_prev_data[agent] = [observation, action, done, actual_action, None, None, reward,  info]\n",
    "            env.step(actual_action)\n",
    "            continue\n",
    "        \n",
    "        prev_observation, prev_action, prev_done, prev_actual_action, hidden, cell = agents_prev_data[agent][0:6]\n",
    "        mask_observations(observation, prev_actual_action)\n",
    "        custom_reward_modifier(agentType, observation, reward, agents_prev_data)\n",
    "        \n",
    "        if not prev_done:\n",
    "            if 'tiger' in agentType:\n",
    "                if activeTiger:\n",
    "                    tiger.cache(prev_observation, observation, hidden, cell, prev_action, reward, done)\n",
    "                    #learn\n",
    "                    q, loss = tiger.learn()\n",
    "                    # logging\n",
    "                    tiger_logger.log_step(reward, loss, q)\n",
    "                action, (hidden, cell) = tiger.act(observation, hidden, cell, activeTiger)\n",
    "                actual_action = tiger_action_mapper(action, prev_actual_action)\n",
    "            else:\n",
    "                if activeDeer:\n",
    "                    deer.cache(prev_observation, observation, hidden, cell, prev_action, reward, done)\n",
    "                    #learn\n",
    "                    q, loss = deer.learn()\n",
    "                    # logging\n",
    "                    deer_logger.log_step(reward, loss, q)\n",
    "                action, (hidden, cell) = deer.act(observation, hidden, cell, activeDeer)\n",
    "                actual_action = deer_action_mapper(action, prev_actual_action)\n",
    "        \n",
    "        if done:\n",
    "            action = None\n",
    "            actual_action = None\n",
    "        \n",
    "        agents_prev_data[agent] = [observation, action, done, actual_action, hidden, cell, reward,  info]\n",
    "        env.step(actual_action)\n",
    "        \n",
    "\n",
    "    deer_logger.log_episode()\n",
    "    tiger_logger.log_episode()\n",
    "\n",
    "    # if e % 5 == 0:\n",
    "    if activeDeer:\n",
    "        # print(\"Deer - Min Possible Reward \", -number_of_deer)\n",
    "        deer_logger.record(episode=e, epsilon=deer.exploration_rate, step=deer.curr_step)\n",
    "    if activeTiger:\n",
    "        # print(\"Tiger - Max Possible Reward \", number_of_deer)\n",
    "        tiger_logger.record(episode=e, epsilon=tiger.exploration_rate, step=tiger.curr_step)\n",
    "    if switching:\n",
    "        activeDeer, activeTiger = change_active_model(activeDeer, activeTiger, deer.curr_step, tiger.curr_step, steps_to_switch_at_deer, steps_to_switch_at_tiger, total_steps_deer, total_steps_tiger)\n",
    "\n",
    "# log last episode\n",
    "deer_logger.record(episode=e, epsilon=deer.exploration_rate, step=deer.curr_step)\n",
    "tiger_logger.record(episode=e, epsilon=tiger.exploration_rate, step=tiger.curr_step)"
   ]
  },
  {
   "attachments": {},
   "cell_type": "markdown",
   "metadata": {},
   "source": [
    "### Visualize Trained Model"
   ]
  },
  {
   "cell_type": "code",
   "execution_count": null,
   "metadata": {},
   "outputs": [
    {
     "name": "stdout",
     "output_type": "stream",
     "text": [
      "Episode:  0\n",
      "Episode:  1\n",
      "Episode:  2\n",
      "Episode:  3\n",
      "Episode:  4\n",
      "Episode:  5\n",
      "Episode:  6\n",
      "Episode:  7\n",
      "Episode:  8\n",
      "Episode:  9\n"
     ]
    }
   ],
   "source": [
    "env = tiger_deer_v4.env(map_size=map_size, minimap_mode=False, render_mode='human', max_cycles=max_cycles, extra_features=True)\n",
    "example_episodes = 10\n",
    "for e in range(example_episodes):\n",
    "    print(\"Episode: \", e)\n",
    "    env.reset(seed=None)\n",
    "    # Play the game!\n",
    "    agents_prev_data = {}\n",
    "    init_agent = None\n",
    "    for agent in env.agent_iter():\n",
    "        if init_agent is None:\n",
    "            init_agent = agent\n",
    "        else:\n",
    "            if init_agent == agent:\n",
    "                time.sleep(0.01)\n",
    "\n",
    "        agentType = get_agent_type_from_agent_name(agent)\n",
    "\n",
    "        observation, reward, termination, truncation, info = env.last()\n",
    "        observation = np.transpose(observation, (2,0,1))\n",
    "        done = termination or truncation\n",
    "        \n",
    "        # instantiate previous data\n",
    "        if agent not in agents_prev_data.keys():\n",
    "            action, actual_action, prev_actual_action = generate_first_action(agentType)\n",
    "            mask_observations(observation, prev_actual_action)\n",
    "            agents_prev_data[agent] = [observation, action, done, actual_action, None, None, reward,  info]\n",
    "            env.step(actual_action)\n",
    "            continue\n",
    "\n",
    "        prev_observation, prev_action, prev_done, prev_actual_action, hidden, cell = agents_prev_data[agent][0:6]\n",
    "        mask_observations(observation, prev_actual_action)\n",
    "        custom_reward_modifier(agentType, observation, reward, agents_prev_data)\n",
    "        \n",
    "\n",
    "        if not done:\n",
    "            if 'tiger' in agentType:\n",
    "                # tiger.cache(prev_observation, observation, prev_action, reward, done, agentName=agent)\n",
    "                action, (hidden, cell) = tiger.act(observation, hidden, cell, activeTiger)\n",
    "                actual_action = tiger_action_mapper(action, prev_actual_action)\n",
    "            else:\n",
    "                # deer.cache(prev_observation, observation, prev_action, reward, done, agentName=agent)\n",
    "                # action =\n",
    "                action, (hidden, cell) = deer.act(observation, hidden, cell, activeDeer)\n",
    "                actual_action = deer_action_mapper(action, prev_actual_action)\n",
    "        else:\n",
    "            action = None\n",
    "            actual_action = None\n",
    "        \n",
    "        agents_prev_data[agent] = [observation, action, done, actual_action, hidden, cell, reward,  info]\n",
    "        env.step(actual_action)\n",
    "    "
   ]
  },
  {
   "cell_type": "code",
   "execution_count": null,
   "metadata": {},
   "outputs": [],
   "source": []
  }
 ],
 "metadata": {
  "kernelspec": {
   "display_name": "base",
   "language": "python",
   "name": "python3"
  },
  "language_info": {
   "codemirror_mode": {
    "name": "ipython",
    "version": 3
   },
   "file_extension": ".py",
   "mimetype": "text/x-python",
   "name": "python",
   "nbconvert_exporter": "python",
   "pygments_lexer": "ipython3",
   "version": "3.9.13"
  },
  "orig_nbformat": 4
 },
 "nbformat": 4,
 "nbformat_minor": 2
}
