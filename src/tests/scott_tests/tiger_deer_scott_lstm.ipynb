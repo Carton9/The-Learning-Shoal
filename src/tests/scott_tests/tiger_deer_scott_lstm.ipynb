{
 "cells": [
  {
   "cell_type": "code",
   "execution_count": 1,
   "metadata": {},
   "outputs": [],
   "source": [
    "from magent2.environments import battle_v4, adversarial_pursuit_v4, tiger_deer_v4\n",
    "from pettingzoo.utils import random_demo\n",
    "import torch\n",
    "import time\n",
    "# import torch.nn as nn\n",
    "# import torch.optim as optim\n",
    "# import torch.nn.functional as F\n",
    "# from dqn_basic import DQN_Basic\n",
    "from collections import namedtuple, deque\n",
    "import numpy as np\n",
    "# import matplotlib.pyplot as plt\n",
    "from AnimalLSTM import Animal\n",
    "from pathlib import Path\n",
    "from collections import deque\n",
    "import datetime, os\n",
    "from metric_logger import MetricLogger\n",
    "import os\n",
    "os.environ[\"KMP_DUPLICATE_LIB_OK\"]=\"TRUE\""
   ]
  },
  {
   "cell_type": "code",
   "execution_count": 2,
   "metadata": {},
   "outputs": [
    {
     "name": "stdout",
     "output_type": "stream",
     "text": [
      "5\n",
      "(13, 13, 5)\n",
      "(5, 13, 13) (5, 13, 13)\n"
     ]
    },
    {
     "name": "stderr",
     "output_type": "stream",
     "text": [
      "c:\\Users\\Scott\\a3\\lib\\site-packages\\pettingzoo\\utils\\wrappers\\base.py:64: UserWarning: The `action_spaces` dictionary is deprecated. Use the `action_space` function instead.\n",
      "  warnings.warn(\n",
      "c:\\Users\\Scott\\a3\\lib\\site-packages\\pettingzoo\\utils\\wrappers\\base.py:50: UserWarning: The `observation_spaces` dictionary is deprecated. Use the `observation_space` function instead.\n",
      "  warnings.warn(\n"
     ]
    }
   ],
   "source": [
    "device = torch.device(\"cuda\" if torch.cuda.is_available() else \"cpu\")\n",
    "# frame_size = (128, 128)\n",
    "max_cycles = 300\n",
    "total_episodes = 50\n",
    "map_size = 40\n",
    "\n",
    "# env = tiger_deer_v4.env(map_size=map_size, minimap_mode=False, render_mode='human', tiger_step_recover=-0.1, deer_attacked=-0.1, max_cycles=max_cycles, extra_features=False)\n",
    "env = tiger_deer_v4.env(map_size=map_size, minimap_mode=False, render_mode='rgb_array', max_cycles=max_cycles, extra_features=False)\n",
    "\n",
    "print(env.action_spaces['deer_0'].n)\n",
    "print(env.observation_spaces['deer_0'].shape)\n",
    "deer_observation_shape = env.observation_spaces['deer_0'].shape\n",
    "deer_observation_shape = tuple(np.roll(deer_observation_shape,1))\n",
    "# deer_action_space = env.action_spaces['deer_0'].n\n",
    "deer_action_space = 3\n",
    "\n",
    "tiger_observation_shape = env.observation_spaces['tiger_0'].shape\n",
    "tiger_observation_shape = tuple(np.roll(tiger_observation_shape,1))\n",
    "# tiger_action_space = env.action_spaces['tiger_0'].n\n",
    "tiger_action_space = 6\n",
    "\n",
    "print(deer_observation_shape, tiger_observation_shape)\n",
    "assert deer_observation_shape != None\n",
    "assert tiger_observation_shape != None\n",
    "# 'rgb_array' or 'human'\n",
    "# random_demo(env, render=False , episodes=1)\n",
    "# 'rgb_array'\n",
    "# pygame.quit()"
   ]
  },
  {
   "cell_type": "code",
   "execution_count": 3,
   "metadata": {},
   "outputs": [],
   "source": [
    "deer_action_mapping = {\n",
    "    0: {0: 0, 1: 1, 3: 3, 4: 4},\n",
    "    1: {0: 1, 1: 4, 3: 0, 4: 3},\n",
    "    2: {0: 3, 1: 0, 3: 4, 4: 1},\n",
    "}\n",
    "def deer_action_mapper(new_unmapped_action, prev_actual_action, size_of_actions=5):\n",
    "    global deer_action_mapping\n",
    "    return deer_action_mapping.get(new_unmapped_action, {}).get(prev_actual_action, np.random.choice(np.delete(np.arange(0, size_of_actions), 2)))\n",
    "\n",
    "tiger_action_mapping = {\n",
    "    0: {0: 0, 1: 1, 3: 3, 4: 4},\n",
    "    1: {0: 1, 1: 4, 3: 0, 4: 3},\n",
    "    2: {0: 3, 1: 0, 3: 4, 4: 1},\n",
    "    3: {0: 5, 1: 6, 3: 7, 4: 8},\n",
    "    4: {0: 6, 1: 8, 3: 5, 4: 7},\n",
    "    5: {0: 7, 1: 5, 3: 8, 4: 6},\n",
    "}\n",
    "\n",
    "tiger_direction_mapping = {\n",
    "    0: 0,\n",
    "    1: 1,\n",
    "    3: 3,\n",
    "    4: 4,\n",
    "    5: 0,\n",
    "    6: 1,\n",
    "    7: 3,\n",
    "    8: 4,\n",
    "}\n",
    "\n",
    "def tiger_action_mapper(new_action, prev_action, size_of_actions=5): # slower\n",
    "    global tiger_action_mapping, tiger_direction_mapping\n",
    "    direction = tiger_direction_mapping.get(prev_action, 0)\n",
    "    return tiger_action_mapping.get(new_action, {}).get(direction, 0)\n",
    "    "
   ]
  },
  {
   "cell_type": "code",
   "execution_count": 4,
   "metadata": {},
   "outputs": [],
   "source": [
    "def get_agent_type_from_agent_name(agent):\n",
    "    if 'tiger' in agent:\n",
    "        return 'tiger'\n",
    "    return 'deer'"
   ]
  },
  {
   "cell_type": "code",
   "execution_count": 5,
   "metadata": {},
   "outputs": [],
   "source": [
    "def generate_first_action(agentType):\n",
    "    if 'tiger' in agentType:\n",
    "        # action = np.random.randint(0,tiger_action_space,(1,))[0]\n",
    "        action = np.random.choice(np.arange(0, 6))\n",
    "        actual_action = tiger_action_mapper(action, np.random.choice(np.delete(np.arange(0, 9), 2)))\n",
    "    else:\n",
    "        # action = np.random.randint(0,deer_action_space,(1,))[0]\n",
    "        action = np.random.choice(np.arange(0, 3))\n",
    "        actual_action = deer_action_mapper(action, np.random.choice(np.delete(np.arange(0, 5), 2)))\n",
    "    \n",
    "    return action, actual_action"
   ]
  },
  {
   "cell_type": "code",
   "execution_count": 6,
   "metadata": {},
   "outputs": [],
   "source": [
    "def change_active_model(activeDeer, activeTiger, deerCurrentSteps, tigerCurrentSteps, steps_to_switch_at):\n",
    "    if tigerCurrentSteps < deerCurrentSteps-steps_to_switch_at:\n",
    "        if not activeTiger:\n",
    "            print(\"Switching to Tiger\")\n",
    "        return False, True\n",
    "    if deerCurrentSteps < tigerCurrentSteps- steps_to_switch_at:\n",
    "        if not activeDeer:\n",
    "            print(\"Switching to Deer\")\n",
    "        return True, False\n",
    "    return activeDeer, activeTiger"
   ]
  },
  {
   "attachments": {},
   "cell_type": "markdown",
   "metadata": {},
   "source": [
    "## Train Model"
   ]
  },
  {
   "attachments": {},
   "cell_type": "markdown",
   "metadata": {},
   "source": [
    "### Make Models and Loggers"
   ]
  },
  {
   "cell_type": "code",
   "execution_count": 7,
   "metadata": {},
   "outputs": [
    {
     "name": "stdout",
     "output_type": "stream",
     "text": [
      "Using CUDA: True\n",
      "\n"
     ]
    },
    {
     "name": "stderr",
     "output_type": "stream",
     "text": [
      "c:\\Users\\Scott\\a3\\lib\\site-packages\\torch\\nn\\modules\\lazy.py:180: UserWarning: Lazy modules are a new feature under heavy development so changes to the API or functionality can happen at any moment.\n",
      "  warnings.warn('Lazy modules are a new feature under heavy development '\n"
     ]
    }
   ],
   "source": [
    "use_cuda = torch.cuda.is_available()\n",
    "print(f\"Using CUDA: {use_cuda}\")\n",
    "print()\n",
    "\n",
    "deer_save_dir = Path(\"deer_checkpoints\") / datetime.datetime.now().strftime(\"%Y-%m-%dT%H-%M-%S\")\n",
    "deer_save_dir.mkdir(parents=True)\n",
    "\n",
    "tiger_save_dir = Path(\"tiger_checkpoints\") / datetime.datetime.now().strftime(\"%Y-%m-%dT%H-%M-%S\")\n",
    "tiger_save_dir.mkdir(parents=True)\n",
    "\n",
    "modelType = 'basic'\n",
    "\n",
    "deer = Animal(state_dim=deer_observation_shape, action_dim=deer_action_space, save_dir=deer_save_dir)\n",
    "tiger = Animal(state_dim=tiger_observation_shape, action_dim=tiger_action_space, save_dir=tiger_save_dir)\n",
    "\n",
    "deer_logger = MetricLogger(deer_save_dir)\n",
    "tiger_logger = MetricLogger(tiger_save_dir)\n",
    "\n",
    "\n",
    "# active training flags\n",
    "activeDeer = True\n",
    "activeTiger = False\n",
    "\n",
    "\n",
    "# Switch the training set\n",
    "switching = True\n",
    "steps_to_switch_at = 30000\n",
    "total_steps = 30000\n",
    "\n",
    "# divide steps to switch at to actually switch at the proper requested switching steps\n",
    "steps_to_switch_at = steps_to_switch_at//2\n",
    "# if switching enabled, make sure no equivalence between active variables\n",
    "if switching:\n",
    "    if activeDeer == activeTiger:\n",
    "        activeTiger = not activeTiger"
   ]
  },
  {
   "attachments": {},
   "cell_type": "markdown",
   "metadata": {},
   "source": [
    "### Train Model"
   ]
  },
  {
   "cell_type": "code",
   "execution_count": 8,
   "metadata": {},
   "outputs": [
    {
     "name": "stdout",
     "output_type": "stream",
     "text": [
      "Episode:  0\n",
      "Animal saved to deer_checkpoints\\2023-04-24T23-16-25\\animal_net_0.chkpt at step 0\n"
     ]
    },
    {
     "name": "stderr",
     "output_type": "stream",
     "text": [
      "c:\\Users\\Scott\\OneDrive - Georgia Institute of Technology\\Georgia Tech\\GTSR\\Underwater Platforms\\Python_Code\\TheLearningShoal\\The-Learning-Shoal\\src\\tests\\scott_tests\\AnimalLSTM.py:49: UserWarning: To copy construct from a tensor, it is recommended to use sourceTensor.clone().detach() or sourceTensor.clone().detach().requires_grad_(True), rather than torch.tensor(sourceTensor).\n",
      "  hidden = torch.tensor(hidden, device=self.device) #.unsqueeze(0)\n",
      "c:\\Users\\Scott\\OneDrive - Georgia Institute of Technology\\Georgia Tech\\GTSR\\Underwater Platforms\\Python_Code\\TheLearningShoal\\The-Learning-Shoal\\src\\tests\\scott_tests\\AnimalLSTM.py:50: UserWarning: To copy construct from a tensor, it is recommended to use sourceTensor.clone().detach() or sourceTensor.clone().detach().requires_grad_(True), rather than torch.tensor(sourceTensor).\n",
      "  cell = torch.tensor(cell, device=self.device) #.unsqueeze(0)\n"
     ]
    },
    {
     "name": "stdout",
     "output_type": "stream",
     "text": [
      "Deer\n",
      "Episode 0 - Step 18455 - Epsilon 0.9953968764201091 - Mean Reward -21.0 - Mean Length 18455.0 - Mean Loss 0.001 - Mean Q Value -0.007 - Time Delta 44.501 - Time 2023-04-24T23:17:11\n",
      "Switching to Tiger\n",
      "Episode:  1\n",
      "Animal saved to tiger_checkpoints\\2023-04-24T23-16-25\\animal_net_0.chkpt at step 0\n",
      "Tiger\n",
      "Episode 1 - Step 2653 - Epsilon 0.9993369698187179 - Mean Reward 24.5 - Mean Length 1326.5 - Mean Loss 0.0 - Mean Q Value 0.0 - Time Delta 69.157 - Time 2023-04-24T23:17:36\n",
      "Episode:  2\n",
      "Tiger\n",
      "Episode 2 - Step 4803 - Epsilon 0.9987999704617467 - Mean Reward 27.667 - Mean Length 1601.0 - Mean Loss 0.0 - Mean Q Value 0.0 - Time Delta 30.106 - Time 2023-04-24T23:18:06\n",
      "Episode:  3\n",
      "Tiger\n",
      "Episode 3 - Step 7161 - Epsilon 0.9982113513180365 - Mean Reward 30.75 - Mean Length 1790.25 - Mean Loss 0.0 - Mean Q Value 0.0 - Time Delta 30.115 - Time 2023-04-24T23:18:36\n",
      "Episode:  4\n",
      "Tiger\n",
      "Episode 4 - Step 9319 - Epsilon 0.9976729614703446 - Mean Reward 30.4 - Mean Length 1863.8 - Mean Loss 0.0 - Mean Q Value 0.0 - Time Delta 24.323 - Time 2023-04-24T23:19:00\n",
      "Episode:  5\n",
      "Tiger\n",
      "Episode 5 - Step 12181 - Epsilon 0.9969593816907246 - Mean Reward 34.333 - Mean Length 2030.167 - Mean Loss 0.001 - Mean Q Value 0.01 - Time Delta 27.809 - Time 2023-04-24T23:19:28\n",
      "Episode:  6\n",
      "Tiger\n",
      "Episode 6 - Step 14771 - Epsilon 0.9963140593559766 - Mean Reward 35.857 - Mean Length 2110.143 - Mean Loss 0.002 - Mean Q Value 0.013 - Time Delta 28.611 - Time 2023-04-24T23:19:57\n",
      "Episode:  7\n",
      "Tiger\n",
      "Episode 7 - Step 17329 - Epsilon 0.9956771201183401 - Mean Reward 37.0 - Mean Length 2166.125 - Mean Loss 0.003 - Mean Q Value 0.015 - Time Delta 26.266 - Time 2023-04-24T23:20:23\n",
      "Episode:  8\n",
      "Tiger\n",
      "Episode 8 - Step 20031 - Epsilon 0.9950047672523085 - Mean Reward 37.444 - Mean Length 2225.667 - Mean Loss 0.003 - Mean Q Value 0.017 - Time Delta 29.086 - Time 2023-04-24T23:20:52\n",
      "Episode:  9\n",
      "Tiger\n",
      "Episode 9 - Step 22806 - Epsilon 0.9943147219957987 - Mean Reward 38.4 - Mean Length 2280.6 - Mean Loss 0.004 - Mean Q Value 0.022 - Time Delta 28.614 - Time 2023-04-24T23:21:21\n",
      "Episode:  10\n",
      "Tiger\n",
      "Episode 10 - Step 25859 - Epsilon 0.993556100734968 - Mean Reward 39.727 - Mean Length 2350.818 - Mean Loss 0.005 - Mean Q Value 0.026 - Time Delta 29.26 - Time 2023-04-24T23:21:50\n",
      "Switching to Deer\n",
      "Episode:  11\n",
      "Deer\n",
      "Episode 11 - Step 37275 - Epsilon 0.9907245338370873 - Mean Reward -3.833 - Mean Length 3106.25 - Mean Loss 0.0 - Mean Q Value 0.001 - Time Delta 344.26 - Time 2023-04-24T23:22:55\n",
      "Switching to Tiger\n",
      "Episode:  12\n",
      "Tiger\n",
      "Episode 12 - Step 28411 - Epsilon 0.992922414030955 - Mean Reward 36.769 - Mean Length 2185.462 - Mean Loss 0.005 - Mean Q Value 0.026 - Time Delta 91.352 - Time 2023-04-24T23:23:21\n",
      "Episode:  13\n",
      "Tiger\n",
      "Episode 13 - Step 30939 - Epsilon 0.9922950852435611 - Mean Reward 37.714 - Mean Length 2209.929 - Mean Loss 0.005 - Mean Q Value 0.029 - Time Delta 29.546 - Time 2023-04-24T23:23:51\n",
      "Episode 13 - Step 37275 - Epsilon 0.9907245338370873 - Mean Reward -3.286 - Mean Length 2662.5 - Mean Loss 0.0 - Mean Q Value 0.0 - Time Delta 55.667 - Time 2023-04-24T23:23:51\n",
      "Episode 13 - Step 30939 - Epsilon 0.9922950852435611 - Mean Reward 37.714 - Mean Length 2209.929 - Mean Loss 0.005 - Mean Q Value 0.029 - Time Delta 0.399 - Time 2023-04-24T23:23:51\n"
     ]
    },
    {
     "data": {
      "text/plain": [
       "<Figure size 640x480 with 0 Axes>"
      ]
     },
     "metadata": {},
     "output_type": "display_data"
    }
   ],
   "source": [
    "e = -1\n",
    "last_recorded_tiger_step = 0\n",
    "last_recorded_deer_step = 0\n",
    "while deer.curr_step < total_steps or tiger.curr_step < total_steps:\n",
    "    e = e + 1\n",
    "# for e in range(total_episodes):\n",
    "    print(\"Episode: \", e)\n",
    "    env.reset(seed=None)\n",
    "    agents_prev_data = {}\n",
    "    # Play the game!\n",
    "    for agent in env.agent_iter():\n",
    "        \n",
    "        observation, reward, termination, truncation, info = env.last()\n",
    "        observation = np.transpose(observation, (2,0,1))\n",
    "        done = termination or truncation\n",
    "        agentType = get_agent_type_from_agent_name(agent)\n",
    "\n",
    "        # instantiate previous data\n",
    "        if agent not in agents_prev_data.keys():\n",
    "            action, actual_action = generate_first_action(agentType)\n",
    "            agents_prev_data[agent] = [observation, action, done, actual_action, None, None, reward,  info]\n",
    "            env.step(actual_action)\n",
    "            continue\n",
    "        \n",
    "        prev_observation, prev_action, prev_done, prev_actual_action, hidden, cell = agents_prev_data[agent][0:6]\n",
    "        \n",
    "        if not prev_done:\n",
    "            if 'tiger' in agentType:\n",
    "                if activeTiger:\n",
    "                    tiger.cache(prev_observation, observation, hidden, cell, prev_action, reward, done)\n",
    "                    #learn\n",
    "                    q, loss = tiger.learn()\n",
    "                    # logging\n",
    "                    tiger_logger.log_step(reward, loss, q)\n",
    "                action, (hidden, cell) = tiger.act(observation, hidden, cell, activeTiger)\n",
    "                actual_action = tiger_action_mapper(action, prev_actual_action)\n",
    "            else:\n",
    "                if activeDeer:\n",
    "                    deer.cache(prev_observation, observation, hidden, cell, prev_action, reward, done)\n",
    "                    #learn\n",
    "                    q, loss = deer.learn()\n",
    "                    # logging\n",
    "                    deer_logger.log_step(reward, loss, q)\n",
    "                action, (hidden, cell) = deer.act(observation, hidden, cell, activeDeer)\n",
    "                actual_action = deer_action_mapper(action, prev_actual_action)\n",
    "        \n",
    "        if done:\n",
    "            action = None\n",
    "            actual_action = None\n",
    "        \n",
    "        agents_prev_data[agent] = [observation, action, done, actual_action, hidden, cell, reward,  info]\n",
    "        env.step(actual_action)\n",
    "        \n",
    "\n",
    "    deer_logger.log_episode()\n",
    "    tiger_logger.log_episode()\n",
    "\n",
    "    # if e % 5 == 0:\n",
    "    if activeDeer:\n",
    "        print(\"Deer\")\n",
    "        deer_logger.record(episode=e, epsilon=deer.exploration_rate, step=deer.curr_step)\n",
    "    if activeTiger:\n",
    "        print(\"Tiger\")\n",
    "        tiger_logger.record(episode=e, epsilon=tiger.exploration_rate, step=tiger.curr_step)\n",
    "    if switching:\n",
    "        activeDeer, activeTiger = change_active_model(activeDeer, activeTiger, deer.curr_step, tiger.curr_step, steps_to_switch_at)\n",
    "\n",
    "# log last episode\n",
    "# if total_episodes != 0:\n",
    "deer_logger.record(episode=e, epsilon=deer.exploration_rate, step=deer.curr_step)\n",
    "tiger_logger.record(episode=e, epsilon=tiger.exploration_rate, step=tiger.curr_step)"
   ]
  },
  {
   "attachments": {},
   "cell_type": "markdown",
   "metadata": {},
   "source": [
    "### Visualize Trained Model"
   ]
  },
  {
   "cell_type": "code",
   "execution_count": 9,
   "metadata": {},
   "outputs": [
    {
     "name": "stdout",
     "output_type": "stream",
     "text": [
      "Episode:  0\n"
     ]
    },
    {
     "ename": "SystemExit",
     "evalue": "",
     "output_type": "error",
     "traceback": [
      "An exception has occurred, use %tb to see the full traceback.\n",
      "\u001b[1;31mSystemExit\u001b[0m\n"
     ]
    },
    {
     "name": "stderr",
     "output_type": "stream",
     "text": [
      "c:\\Users\\Scott\\a3\\lib\\site-packages\\IPython\\core\\interactiveshell.py:3465: UserWarning: To exit: use 'exit', 'quit', or Ctrl-D.\n",
      "  warn(\"To exit: use 'exit', 'quit', or Ctrl-D.\", stacklevel=1)\n"
     ]
    }
   ],
   "source": [
    "env = tiger_deer_v4.env(map_size=map_size, minimap_mode=False, render_mode='human', max_cycles=max_cycles, extra_features=False)\n",
    "example_episodes = 10\n",
    "for e in range(example_episodes):\n",
    "    print(\"Episode: \", e)\n",
    "    env.reset(seed=None)\n",
    "    # Play the game!\n",
    "    agents_prev_data = {}\n",
    "    init_agent = None\n",
    "    for agent in env.agent_iter():\n",
    "        if init_agent is None:\n",
    "            init_agent = agent\n",
    "        else:\n",
    "            if init_agent == agent:\n",
    "                time.sleep(0.01)\n",
    "\n",
    "        observation, reward, termination, truncation, info = env.last()\n",
    "        observation = np.transpose(observation, (2,0,1))\n",
    "        done = termination or truncation\n",
    "        agentType = get_agent_type_from_agent_name(agent)\n",
    "\n",
    "        # instantiate previous data\n",
    "        if agent not in agents_prev_data.keys():\n",
    "            action, actual_action = generate_first_action(agentType)\n",
    "            agents_prev_data[agent] = [observation, action, done, actual_action, None, None, reward,  info]\n",
    "            env.step(actual_action)\n",
    "            continue\n",
    "\n",
    "        prev_observation, prev_action, prev_done, prev_actual_action, hidden, cell = agents_prev_data[agent][0:6]\n",
    "\n",
    "        if not done:\n",
    "            if 'tiger' in agentType:\n",
    "                # tiger.cache(prev_observation, observation, prev_action, reward, done, agentName=agent)\n",
    "                action, (hidden, cell) = tiger.act(observation, hidden, cell, activeTiger)\n",
    "                actual_action = tiger_action_mapper(action, prev_actual_action)\n",
    "            else:\n",
    "                # deer.cache(prev_observation, observation, prev_action, reward, done, agentName=agent)\n",
    "                # action =\n",
    "                action, (hidden, cell) = deer.act(observation, hidden, cell, activeDeer)\n",
    "                actual_action = deer_action_mapper(action, prev_actual_action)\n",
    "        else:\n",
    "            action = None\n",
    "            actual_action = None\n",
    "        \n",
    "        agents_prev_data[agent] = [observation, action, done, actual_action, hidden, cell, reward,  info]\n",
    "        env.step(actual_action)\n",
    "    "
   ]
  },
  {
   "cell_type": "code",
   "execution_count": null,
   "metadata": {},
   "outputs": [],
   "source": []
  }
 ],
 "metadata": {
  "kernelspec": {
   "display_name": "base",
   "language": "python",
   "name": "python3"
  },
  "language_info": {
   "codemirror_mode": {
    "name": "ipython",
    "version": 3
   },
   "file_extension": ".py",
   "mimetype": "text/x-python",
   "name": "python",
   "nbconvert_exporter": "python",
   "pygments_lexer": "ipython3",
   "version": "3.9.13"
  },
  "orig_nbformat": 4
 },
 "nbformat": 4,
 "nbformat_minor": 2
}
