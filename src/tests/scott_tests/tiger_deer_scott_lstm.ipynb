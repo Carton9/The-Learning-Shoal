{
 "cells": [
  {
   "cell_type": "code",
   "execution_count": 1,
   "metadata": {},
   "outputs": [],
   "source": [
    "from magent2.environments import battle_v4, adversarial_pursuit_v4, tiger_deer_v4\n",
    "from pettingzoo.utils import random_demo\n",
    "import torch\n",
    "import time\n",
    "# import torch.nn as nn\n",
    "# import torch.optim as optim\n",
    "# import torch.nn.functional as F\n",
    "# from dqn_basic import DQN_Basic\n",
    "from collections import namedtuple, deque\n",
    "import numpy as np\n",
    "# import matplotlib.pyplot as plt\n",
    "from AnimalLSTM import Animal\n",
    "from pathlib import Path\n",
    "from collections import deque\n",
    "import datetime, os\n",
    "from metric_logger import MetricLogger\n",
    "import os\n",
    "os.environ[\"KMP_DUPLICATE_LIB_OK\"]=\"TRUE\""
   ]
  },
  {
   "cell_type": "code",
   "execution_count": 2,
   "metadata": {},
   "outputs": [
    {
     "name": "stdout",
     "output_type": "stream",
     "text": [
      "5\n",
      "Number of Deer: 80\n",
      "Number of Tigers: 16\n",
      "Deer Observations: (5, 13, 13) Tiger Observations: (5, 13, 13)\n"
     ]
    },
    {
     "name": "stderr",
     "output_type": "stream",
     "text": [
      "c:\\Users\\Scott\\a3\\lib\\site-packages\\pettingzoo\\utils\\wrappers\\base.py:64: UserWarning: The `action_spaces` dictionary is deprecated. Use the `action_space` function instead.\n",
      "  warnings.warn(\n",
      "c:\\Users\\Scott\\a3\\lib\\site-packages\\pettingzoo\\utils\\wrappers\\base.py:50: UserWarning: The `observation_spaces` dictionary is deprecated. Use the `observation_space` function instead.\n",
      "  warnings.warn(\n"
     ]
    }
   ],
   "source": [
    "device = torch.device(\"cuda\" if torch.cuda.is_available() else \"cpu\")\n",
    "# frame_size = (128, 128)\n",
    "max_cycles = 300\n",
    "# total_episodes = 50\n",
    "map_size = 50\n",
    "\n",
    "# env = tiger_deer_v4.env(map_size=map_size, minimap_mode=False, render_mode='human', tiger_step_recover=-0.1, deer_attacked=-0.1, max_cycles=max_cycles, extra_features=False)\n",
    "env = tiger_deer_v4.env(map_size=map_size, minimap_mode=False, render_mode='rgb_array', max_cycles=max_cycles, extra_features=False)\n",
    "env.reset(seed=None)\n",
    "\n",
    "print(env.action_spaces['deer_0'].n)\n",
    "number_of_deer = len([x for x in env.agents if 'deer' in x])\n",
    "print(\"Number of Deer:\",number_of_deer)\n",
    "number_of_tigers = len([x for x in env.agents if 'tiger' in x])\n",
    "print(\"Number of Tigers:\", number_of_tigers)\n",
    "deer_observation_shape = env.observation_spaces['deer_0'].shape\n",
    "deer_observation_shape = tuple(np.roll(deer_observation_shape,1))\n",
    "# deer_action_space = env.action_spaces['deer_0'].n\n",
    "deer_action_space = 3\n",
    "\n",
    "tiger_observation_shape = env.observation_spaces['tiger_0'].shape\n",
    "tiger_observation_shape = tuple(np.roll(tiger_observation_shape,1))\n",
    "# tiger_action_space = env.action_spaces['tiger_0'].n\n",
    "tiger_action_space = 6\n",
    "\n",
    "print(\"Deer Observations:\", deer_observation_shape, \"Tiger Observations:\",tiger_observation_shape)\n",
    "assert deer_observation_shape != None\n",
    "assert tiger_observation_shape != None\n",
    "# 'rgb_array' or 'human'\n",
    "# random_demo(env, render=False , episodes=1)\n",
    "# 'rgb_array'\n",
    "# pygame.quit()"
   ]
  },
  {
   "cell_type": "code",
   "execution_count": 3,
   "metadata": {},
   "outputs": [],
   "source": [
    "deer_action_mapping = {\n",
    "    0: {0: 0, 1: 1, 3: 3, 4: 4},\n",
    "    1: {0: 1, 1: 4, 3: 0, 4: 3},\n",
    "    2: {0: 3, 1: 0, 3: 4, 4: 1},\n",
    "}\n",
    "def deer_action_mapper(new_unmapped_action, prev_actual_action, size_of_actions=5):\n",
    "    global deer_action_mapping\n",
    "    return deer_action_mapping.get(new_unmapped_action, {}).get(prev_actual_action, np.random.choice(np.delete(np.arange(0, size_of_actions), 2)))\n",
    "\n",
    "tiger_action_mapping = {\n",
    "    0: {0: 0, 1: 1, 3: 3, 4: 4},\n",
    "    1: {0: 1, 1: 4, 3: 0, 4: 3},\n",
    "    2: {0: 3, 1: 0, 3: 4, 4: 1},\n",
    "    3: {0: 5, 1: 6, 3: 7, 4: 8},\n",
    "    4: {0: 6, 1: 8, 3: 5, 4: 7},\n",
    "    5: {0: 7, 1: 5, 3: 8, 4: 6},\n",
    "}\n",
    "\n",
    "tiger_direction_mapping = {\n",
    "    0: 0,\n",
    "    1: 1,\n",
    "    3: 3,\n",
    "    4: 4,\n",
    "    5: 0,\n",
    "    6: 1,\n",
    "    7: 3,\n",
    "    8: 4,\n",
    "}\n",
    "\n",
    "def tiger_action_mapper(new_action, prev_action, size_of_actions=5): # slower\n",
    "    global tiger_action_mapping, tiger_direction_mapping\n",
    "    direction = tiger_direction_mapping.get(prev_action, 0)\n",
    "    return tiger_action_mapping.get(new_action, {}).get(direction, 0)\n",
    "\n",
    "def mask_observations(observations, prev_actual_action):\n",
    "    current_position = (observations.shape[1] // 2, observations.shape[2] // 2)\n",
    "    direction = tiger_direction_mapping.get(prev_actual_action, 0)\n",
    "    if direction == 0:  # Up\n",
    "        observations[:, current_position[0]:, :] = 0\n",
    "    elif direction == 1:  # Left\n",
    "        observations[:, :, current_position[1]:] = 0\n",
    "    elif direction == 3:  # Right\n",
    "        observations[:, :, :current_position[1]] = 0\n",
    "    elif direction == 4:  # Down\n",
    "        observations[:, :current_position[0]+1, :] = 0\n",
    "    else:\n",
    "        raise ValueError(\"Direction mapping issue for mask observations\")\n",
    "    # print(\"direction: \", direction, \" observations: \", observations)\n",
    "    "
   ]
  },
  {
   "cell_type": "code",
   "execution_count": 4,
   "metadata": {},
   "outputs": [],
   "source": [
    "def get_agent_type_from_agent_name(agent):\n",
    "    if 'tiger' in agent:\n",
    "        return 'tiger'\n",
    "    return 'deer'"
   ]
  },
  {
   "cell_type": "code",
   "execution_count": 6,
   "metadata": {},
   "outputs": [],
   "source": [
    "def generate_first_action(agentType):\n",
    "    if 'tiger' in agentType:\n",
    "        # action = np.random.randint(0,tiger_action_space,(1,))[0]\n",
    "        action = np.random.choice(np.arange(0, 6))\n",
    "        previous_actual_action = np.random.choice(np.delete(np.arange(0, 9), 2))\n",
    "        actual_action = tiger_action_mapper(action, previous_actual_action)\n",
    "    else:\n",
    "        # action = np.random.randint(0,deer_action_space,(1,))[0]\n",
    "        action = np.random.choice(np.arange(0, 3))\n",
    "        previous_actual_action = np.random.choice(np.delete(np.arange(0, 5), 2))\n",
    "        actual_action = deer_action_mapper(action, previous_actual_action)\n",
    "    \n",
    "    return action, actual_action, previous_actual_action"
   ]
  },
  {
   "cell_type": "code",
   "execution_count": 7,
   "metadata": {},
   "outputs": [],
   "source": [
    "def change_active_model(activeDeer, activeTiger, deerCurrentSteps, tigerCurrentSteps, steps_to_switch_at):\n",
    "    if tigerCurrentSteps < (deerCurrentSteps//steps_to_switch_at)*steps_to_switch_at:\n",
    "        if not activeTiger:\n",
    "            print(\"Switching to Tiger\")\n",
    "        return False, True\n",
    "    if deerCurrentSteps < (tigerCurrentSteps//steps_to_switch_at)*steps_to_switch_at:\n",
    "        if not activeDeer:\n",
    "            print(\"Switching to Deer\")\n",
    "        return True, False\n",
    "    return activeDeer, activeTiger"
   ]
  },
  {
   "attachments": {},
   "cell_type": "markdown",
   "metadata": {},
   "source": [
    "## Train Model"
   ]
  },
  {
   "attachments": {},
   "cell_type": "markdown",
   "metadata": {},
   "source": [
    "### Make Models and Loggers"
   ]
  },
  {
   "cell_type": "code",
   "execution_count": 8,
   "metadata": {},
   "outputs": [
    {
     "name": "stdout",
     "output_type": "stream",
     "text": [
      "Using CUDA: True\n",
      "\n"
     ]
    },
    {
     "name": "stderr",
     "output_type": "stream",
     "text": [
      "c:\\Users\\Scott\\a3\\lib\\site-packages\\torch\\nn\\modules\\lazy.py:180: UserWarning: Lazy modules are a new feature under heavy development so changes to the API or functionality can happen at any moment.\n",
      "  warnings.warn('Lazy modules are a new feature under heavy development '\n"
     ]
    }
   ],
   "source": [
    "use_cuda = torch.cuda.is_available()\n",
    "print(f\"Using CUDA: {use_cuda}\")\n",
    "print()\n",
    "\n",
    "deer_save_dir = Path(\"deer_checkpoints\") / datetime.datetime.now().strftime(\"%Y-%m-%dT%H-%M-%S\")\n",
    "deer_save_dir.mkdir(parents=True)\n",
    "\n",
    "tiger_save_dir = Path(\"tiger_checkpoints\") / datetime.datetime.now().strftime(\"%Y-%m-%dT%H-%M-%S\")\n",
    "tiger_save_dir.mkdir(parents=True)\n",
    "\n",
    "modelType = 'basic'\n",
    "\n",
    "deer = Animal(state_dim=deer_observation_shape, action_dim=deer_action_space, save_dir=deer_save_dir)\n",
    "tiger = Animal(state_dim=tiger_observation_shape, action_dim=tiger_action_space, save_dir=tiger_save_dir)\n",
    "\n",
    "deer_logger = MetricLogger(deer_save_dir, animal='deer')\n",
    "tiger_logger = MetricLogger(tiger_save_dir, animal='tiger')\n",
    "\n",
    "\n",
    "# active training flags\n",
    "activeDeer = True\n",
    "activeTiger = False\n",
    "\n",
    "\n",
    "# Switch the training set\n",
    "switching = True\n",
    "steps_to_switch_at = 15000\n",
    "total_steps = 90000\n",
    "\n",
    "# divide steps to switch at to actually switch at the proper requested switching steps\n",
    "# steps_to_switch_at = steps_to_switch_at//2\n",
    "# if switching enabled, make sure no equivalence between active variables\n",
    "if switching:\n",
    "    if activeDeer == activeTiger:\n",
    "        activeTiger = not activeTiger"
   ]
  },
  {
   "attachments": {},
   "cell_type": "markdown",
   "metadata": {},
   "source": [
    "### Train Model"
   ]
  },
  {
   "cell_type": "code",
   "execution_count": 9,
   "metadata": {},
   "outputs": [
    {
     "name": "stdout",
     "output_type": "stream",
     "text": [
      "Number of Tigers: 16\n",
      "Number of Deer: 80\n",
      "Animal saved to deer_checkpoints\\2023-04-25T11-21-14\\animal_net_0.chkpt at step 0\n"
     ]
    },
    {
     "name": "stderr",
     "output_type": "stream",
     "text": [
      "c:\\Users\\Scott\\OneDrive - Georgia Institute of Technology\\Georgia Tech\\GTSR\\Underwater Platforms\\Python_Code\\TheLearningShoal\\The-Learning-Shoal\\src\\tests\\scott_tests\\AnimalLSTM.py:49: UserWarning: To copy construct from a tensor, it is recommended to use sourceTensor.clone().detach() or sourceTensor.clone().detach().requires_grad_(True), rather than torch.tensor(sourceTensor).\n",
      "  hidden = torch.tensor(hidden, device=self.device) #.unsqueeze(0)\n",
      "c:\\Users\\Scott\\OneDrive - Georgia Institute of Technology\\Georgia Tech\\GTSR\\Underwater Platforms\\Python_Code\\TheLearningShoal\\The-Learning-Shoal\\src\\tests\\scott_tests\\AnimalLSTM.py:50: UserWarning: To copy construct from a tensor, it is recommended to use sourceTensor.clone().detach() or sourceTensor.clone().detach().requires_grad_(True), rather than torch.tensor(sourceTensor).\n",
      "  cell = torch.tensor(cell, device=self.device) #.unsqueeze(0)\n"
     ]
    },
    {
     "name": "stdout",
     "output_type": "stream",
     "text": [
      "Episode 0 - deer - Step 18493 - Epsilon 0.995387420193517 - Mean Reward -27.0 - Mean Length 18493.0 - Mean Loss 0.001 - Mean Q Value 0.024 - Time Delta 47.651 - Time 2023-04-25T11:22:03\n",
      "Switching to Tiger\n",
      "Animal saved to tiger_checkpoints\\2023-04-25T11-21-14\\animal_net_0.chkpt at step 0\n",
      "Episode 1 - tiger - Step 1865 - Epsilon 0.9995338586193204 - Mean Reward 14.0 - Mean Length 932.5 - Mean Loss 0.0 - Mean Q Value 0.0 - Time Delta 68.646 - Time 2023-04-25T11:22:24\n",
      "Episode 2 - tiger - Step 4518 - Epsilon 0.9988711375038438 - Mean Reward 23.333 - Mean Length 1506.0 - Mean Loss 0.0 - Mean Q Value 0.0 - Time Delta 29.799 - Time 2023-04-25T11:22:54\n",
      "Episode 3 - tiger - Step 7254 - Epsilon 0.9981881431710098 - Mean Reward 29.75 - Mean Length 1813.5 - Mean Loss 0.0 - Mean Q Value 0.0 - Time Delta 27.643 - Time 2023-04-25T11:23:21\n",
      "Episode 4 - tiger - Step 9268 - Epsilon 0.9976856818832875 - Mean Reward 32.0 - Mean Length 1853.6 - Mean Loss 0.0 - Mean Q Value 0.0 - Time Delta 23.898 - Time 2023-04-25T11:23:45\n",
      "Episode 5 - tiger - Step 11884 - Epsilon 0.9970334086822974 - Mean Reward 33.833 - Mean Length 1980.667 - Mean Loss 0.001 - Mean Q Value 0.005 - Time Delta 30.546 - Time 2023-04-25T11:24:16\n",
      "Episode 6 - tiger - Step 14699 - Epsilon 0.9963319931726929 - Mean Reward 35.857 - Mean Length 2099.857 - Mean Loss 0.002 - Mean Q Value 0.008 - Time Delta 30.456 - Time 2023-04-25T11:24:46\n",
      "Episode 7 - tiger - Step 17373 - Epsilon 0.9956661677288865 - Mean Reward 38.125 - Mean Length 2171.625 - Mean Loss 0.003 - Mean Q Value 0.011 - Time Delta 29.763 - Time 2023-04-25T11:25:16\n",
      "Episode 8 - tiger - Step 19598 - Epsilon 0.9951124823618183 - Mean Reward 38.222 - Mean Length 2177.556 - Mean Loss 0.003 - Mean Q Value 0.012 - Time Delta 26.841 - Time 2023-04-25T11:25:43\n",
      "Episode 9 - tiger - Step 22247 - Epsilon 0.994453687205556 - Mean Reward 38.9 - Mean Length 2224.7 - Mean Loss 0.004 - Mean Q Value 0.019 - Time Delta 29.007 - Time 2023-04-25T11:26:12\n",
      "Episode 10 - tiger - Step 24691 - Epsilon 0.9938462615141046 - Mean Reward 39.545 - Mean Length 2244.636 - Mean Loss 0.005 - Mean Q Value 0.024 - Time Delta 30.531 - Time 2023-04-25T11:26:42\n",
      "Episode 11 - tiger - Step 27104 - Epsilon 0.9932469044810851 - Mean Reward 39.333 - Mean Length 2258.667 - Mean Loss 0.006 - Mean Q Value 0.028 - Time Delta 30.341 - Time 2023-04-25T11:27:13\n",
      "Episode 12 - tiger - Step 29411 - Epsilon 0.9926742144226314 - Mean Reward 39.308 - Mean Length 2262.385 - Mean Loss 0.007 - Mean Q Value 0.03 - Time Delta 30.509 - Time 2023-04-25T11:27:43\n",
      "Episode 13 - tiger - Step 32123 - Epsilon 0.9920014093277569 - Mean Reward 39.714 - Mean Length 2294.5 - Mean Loss 0.007 - Mean Q Value 0.034 - Time Delta 29.099 - Time 2023-04-25T11:28:12\n",
      "Switching to Deer\n",
      "Episode 14 - deer - Step 36227 - Epsilon 0.9909841377040608 - Mean Reward -3.867 - Mean Length 2415.133 - Mean Loss 0.0 - Mean Q Value 0.003 - Time Delta 433.092 - Time 2023-04-25T11:29:16\n",
      "Animal saved to deer_checkpoints\\2023-04-25T11-21-14\\animal_net_1.chkpt at step 50000\n",
      "Episode 15 - deer - Step 57140 - Epsilon 0.9858165447445507 - Mean Reward -4.688 - Mean Length 3571.25 - Mean Loss 0.0 - Mean Q Value 0.004 - Time Delta 75.226 - Time 2023-04-25T11:30:31\n",
      "Switching to Tiger\n",
      "Episode 16 - tiger - Step 34456 - Epsilon 0.9914229931304038 - Mean Reward 34.882 - Mean Length 2026.824 - Mean Loss 0.006 - Mean Q Value 0.033 - Time Delta 169.58 - Time 2023-04-25T11:31:02\n",
      "Episode 17 - tiger - Step 36200 - Epsilon 0.9909908268704033 - Mean Reward 34.278 - Mean Length 2011.111 - Mean Loss 0.007 - Mean Q Value 0.036 - Time Delta 19.819 - Time 2023-04-25T11:31:22\n",
      "Episode 18 - tiger - Step 38232 - Epsilon 0.9904875313152658 - Mean Reward 34.368 - Mean Length 2012.211 - Mean Loss 0.007 - Mean Q Value 0.038 - Time Delta 23.932 - Time 2023-04-25T11:31:46\n",
      "Episode 19 - tiger - Step 40521 - Epsilon 0.9899208869011566 - Mean Reward 34.55 - Mean Length 2026.05 - Mean Loss 0.007 - Mean Q Value 0.041 - Time Delta 31.097 - Time 2023-04-25T11:32:17\n",
      "Episode 20 - tiger - Step 43389 - Epsilon 0.9892113679294037 - Mean Reward 35.19 - Mean Length 2066.143 - Mean Loss 0.007 - Mean Q Value 0.046 - Time Delta 28.228 - Time 2023-04-25T11:32:45\n",
      "Episode 21 - tiger - Step 46282 - Epsilon 0.9884961793792864 - Mean Reward 35.864 - Mean Length 2103.727 - Mean Loss 0.008 - Mean Q Value 0.05 - Time Delta 28.583 - Time 2023-04-25T11:33:14\n",
      "Episode 22 - tiger - Step 48692 - Epsilon 0.9879007897358449 - Mean Reward 36.13 - Mean Length 2117.043 - Mean Loss 0.008 - Mean Q Value 0.054 - Time Delta 30.395 - Time 2023-04-25T11:33:44\n",
      "Animal saved to tiger_checkpoints\\2023-04-25T11-21-14\\animal_net_1.chkpt at step 50000\n",
      "Episode 23 - tiger - Step 51065 - Epsilon 0.9873148913283158 - Mean Reward 36.5 - Mean Length 2127.708 - Mean Loss 0.008 - Mean Q Value 0.059 - Time Delta 29.61 - Time 2023-04-25T11:34:14\n",
      "Episode 24 - tiger - Step 53942 - Epsilon 0.9866050203218575 - Mean Reward 37.28 - Mean Length 2157.68 - Mean Loss 0.009 - Mean Q Value 0.065 - Time Delta 29.814 - Time 2023-04-25T11:34:43\n",
      "Episode 25 - tiger - Step 56577 - Epsilon 0.9859553082058387 - Mean Reward 37.577 - Mean Length 2176.038 - Mean Loss 0.009 - Mean Q Value 0.071 - Time Delta 30.866 - Time 2023-04-25T11:35:14\n",
      "Episode 26 - tiger - Step 58903 - Epsilon 0.9853821417866773 - Mean Reward 37.63 - Mean Length 2181.593 - Mean Loss 0.009 - Mean Q Value 0.076 - Time Delta 29.709 - Time 2023-04-25T11:35:44\n",
      "Episode 27 - tiger - Step 61486 - Epsilon 0.984746036593586 - Mean Reward 38.143 - Mean Length 2195.929 - Mean Loss 0.009 - Mean Q Value 0.081 - Time Delta 30.758 - Time 2023-04-25T11:36:15\n",
      "Switching to Deer\n",
      "Episode 28 - deer - Step 75205 - Epsilon 0.9813743887124271 - Mean Reward -3.724 - Mean Length 2593.276 - Mean Loss 0.0 - Mean Q Value 0.003 - Time Delta 408.778 - Time 2023-04-25T11:37:20\n",
      "Switching to Tiger\n",
      "Episode 29 - tiger - Step 64172 - Epsilon 0.9840850015146612 - Mean Reward 37.1 - Mean Length 2139.067 - Mean Loss 0.009 - Mean Q Value 0.085 - Time Delta 95.669 - Time 2023-04-25T11:37:50\n",
      "Episode 30 - tiger - Step 66721 - Epsilon 0.9834580930389225 - Mean Reward 37.355 - Mean Length 2152.29 - Mean Loss 0.009 - Mean Q Value 0.09 - Time Delta 28.629 - Time 2023-04-25T11:38:19\n",
      "Episode 31 - tiger - Step 69410 - Epsilon 0.9827971854256339 - Mean Reward 37.812 - Mean Length 2169.062 - Mean Loss 0.01 - Mean Q Value 0.094 - Time Delta 30.055 - Time 2023-04-25T11:38:49\n",
      "Episode 32 - tiger - Step 72098 - Epsilon 0.9821369674924807 - Mean Reward 38.061 - Mean Length 2184.788 - Mean Loss 0.01 - Mean Q Value 0.1 - Time Delta 30.125 - Time 2023-04-25T11:39:19\n",
      "Episode 33 - tiger - Step 74641 - Epsilon 0.9815127722743647 - Mean Reward 38.265 - Mean Length 2195.324 - Mean Loss 0.01 - Mean Q Value 0.106 - Time Delta 30.155 - Time 2023-04-25T11:39:49\n",
      "Episode 34 - tiger - Step 77299 - Epsilon 0.9808607736061455 - Mean Reward 38.629 - Mean Length 2208.543 - Mean Loss 0.01 - Mean Q Value 0.112 - Time Delta 28.69 - Time 2023-04-25T11:40:18\n",
      "Episode 35 - tiger - Step 79872 - Epsilon 0.9802300377167724 - Mean Reward 38.861 - Mean Length 2218.667 - Mean Loss 0.01 - Mean Q Value 0.117 - Time Delta 29.553 - Time 2023-04-25T11:40:48\n",
      "Episode 36 - tiger - Step 82257 - Epsilon 0.9796457496918437 - Mean Reward 39.027 - Mean Length 2223.162 - Mean Loss 0.01 - Mean Q Value 0.123 - Time Delta 30.842 - Time 2023-04-25T11:41:18\n",
      "Episode 37 - tiger - Step 84740 - Epsilon 0.9790378232213451 - Mean Reward 39.105 - Mean Length 2230.0 - Mean Loss 0.011 - Mean Q Value 0.129 - Time Delta 30.317 - Time 2023-04-25T11:41:49\n",
      "Episode 38 - tiger - Step 87638 - Epsilon 0.978328767116282 - Mean Reward 39.333 - Mean Length 2247.128 - Mean Loss 0.011 - Mean Q Value 0.134 - Time Delta 29.936 - Time 2023-04-25T11:42:19\n",
      "Episode 39 - tiger - Step 89980 - Epsilon 0.9777561232093382 - Mean Reward 39.375 - Mean Length 2249.5 - Mean Loss 0.011 - Mean Q Value 0.139 - Time Delta 29.831 - Time 2023-04-25T11:42:48\n",
      "Episode 40 - tiger - Step 92737 - Epsilon 0.9770824369129212 - Mean Reward 39.61 - Mean Length 2261.878 - Mean Loss 0.011 - Mean Q Value 0.146 - Time Delta 29.667 - Time 2023-04-25T11:43:18\n",
      "Switching to Deer\n",
      "Episode 41 - deer - Step 92519 - Epsilon 0.9771356893635128 - Mean Reward -3.452 - Mean Length 2202.833 - Mean Loss 0.0 - Mean Q Value 0.002 - Time Delta 421.423 - Time 2023-04-25T11:44:21\n",
      "Episode 41 - deer - Step 92519 - Epsilon 0.9771356893635128 - Mean Reward -3.452 - Mean Length 2202.833 - Mean Loss 0.0 - Mean Q Value 0.002 - Time Delta 0.255 - Time 2023-04-25T11:44:22\n",
      "Episode 41 - tiger - Step 92737 - Epsilon 0.9770824369129212 - Mean Reward 38.667 - Mean Length 2208.024 - Mean Loss 0.011 - Mean Q Value 0.142 - Time Delta 63.669 - Time 2023-04-25T11:44:22\n"
     ]
    },
    {
     "data": {
      "text/plain": [
       "<Figure size 640x480 with 0 Axes>"
      ]
     },
     "metadata": {},
     "output_type": "display_data"
    }
   ],
   "source": [
    "print(\"Number of Tigers:\", number_of_tigers)\n",
    "print(\"Number of Deer:\",number_of_deer)\n",
    "\n",
    "e = -1\n",
    "while deer.curr_step < total_steps or tiger.curr_step < total_steps:\n",
    "    e = e + 1\n",
    "# for e in range(total_episodes):\n",
    "    # print(\"Episode: \", e)\n",
    "    env.reset(seed=None)\n",
    "    agents_prev_data = {}\n",
    "    # Play the game!\n",
    "    for agent in env.agent_iter():\n",
    "        \n",
    "        observation, reward, termination, truncation, info = env.last()\n",
    "        observation = np.transpose(observation, (2,0,1))\n",
    "        done = termination or truncation\n",
    "        agentType = get_agent_type_from_agent_name(agent)\n",
    "\n",
    "        # instantiate previous data\n",
    "        if agent not in agents_prev_data.keys():\n",
    "            action, actual_action, prev_actual_action = generate_first_action(agentType)\n",
    "            mask_observations(observation, prev_actual_action)\n",
    "            agents_prev_data[agent] = [observation, action, done, actual_action, None, None, reward,  info]\n",
    "            env.step(actual_action)\n",
    "            continue\n",
    "        \n",
    "        prev_observation, prev_action, prev_done, prev_actual_action, hidden, cell = agents_prev_data[agent][0:6]\n",
    "        mask_observations(observation, prev_actual_action)\n",
    "        \n",
    "        if not prev_done:\n",
    "            if 'tiger' in agentType:\n",
    "                if activeTiger:\n",
    "                    tiger.cache(prev_observation, observation, hidden, cell, prev_action, reward, done)\n",
    "                    #learn\n",
    "                    q, loss = tiger.learn()\n",
    "                    # logging\n",
    "                    tiger_logger.log_step(reward, loss, q)\n",
    "                action, (hidden, cell) = tiger.act(observation, hidden, cell, activeTiger)\n",
    "                actual_action = tiger_action_mapper(action, prev_actual_action)\n",
    "            else:\n",
    "                if activeDeer:\n",
    "                    deer.cache(prev_observation, observation, hidden, cell, prev_action, reward, done)\n",
    "                    #learn\n",
    "                    q, loss = deer.learn()\n",
    "                    # logging\n",
    "                    deer_logger.log_step(reward, loss, q)\n",
    "                action, (hidden, cell) = deer.act(observation, hidden, cell, activeDeer)\n",
    "                actual_action = deer_action_mapper(action, prev_actual_action)\n",
    "        \n",
    "        if done:\n",
    "            action = None\n",
    "            actual_action = None\n",
    "        \n",
    "        agents_prev_data[agent] = [observation, action, done, actual_action, hidden, cell, reward,  info]\n",
    "        env.step(actual_action)\n",
    "        \n",
    "\n",
    "    deer_logger.log_episode()\n",
    "    tiger_logger.log_episode()\n",
    "\n",
    "    # if e % 5 == 0:\n",
    "    if activeDeer:\n",
    "        # print(\"Deer - Min Possible Reward \", -number_of_deer)\n",
    "        deer_logger.record(episode=e, epsilon=deer.exploration_rate, step=deer.curr_step)\n",
    "    if activeTiger:\n",
    "        # print(\"Tiger - Max Possible Reward \", number_of_deer)\n",
    "        tiger_logger.record(episode=e, epsilon=tiger.exploration_rate, step=tiger.curr_step)\n",
    "    if switching:\n",
    "        activeDeer, activeTiger = change_active_model(activeDeer, activeTiger, deer.curr_step, tiger.curr_step, steps_to_switch_at)\n",
    "\n",
    "# log last episode\n",
    "# if total_episodes != 0:\n",
    "deer_logger.record(episode=e, epsilon=deer.exploration_rate, step=deer.curr_step)\n",
    "tiger_logger.record(episode=e, epsilon=tiger.exploration_rate, step=tiger.curr_step)"
   ]
  },
  {
   "attachments": {},
   "cell_type": "markdown",
   "metadata": {},
   "source": [
    "### Visualize Trained Model"
   ]
  },
  {
   "cell_type": "code",
   "execution_count": 12,
   "metadata": {},
   "outputs": [
    {
     "name": "stdout",
     "output_type": "stream",
     "text": [
      "Episode:  0\n"
     ]
    },
    {
     "name": "stderr",
     "output_type": "stream",
     "text": [
      "c:\\Users\\Scott\\OneDrive - Georgia Institute of Technology\\Georgia Tech\\GTSR\\Underwater Platforms\\Python_Code\\TheLearningShoal\\The-Learning-Shoal\\src\\tests\\scott_tests\\AnimalLSTM.py:49: UserWarning: To copy construct from a tensor, it is recommended to use sourceTensor.clone().detach() or sourceTensor.clone().detach().requires_grad_(True), rather than torch.tensor(sourceTensor).\n",
      "  hidden = torch.tensor(hidden, device=self.device) #.unsqueeze(0)\n",
      "c:\\Users\\Scott\\OneDrive - Georgia Institute of Technology\\Georgia Tech\\GTSR\\Underwater Platforms\\Python_Code\\TheLearningShoal\\The-Learning-Shoal\\src\\tests\\scott_tests\\AnimalLSTM.py:50: UserWarning: To copy construct from a tensor, it is recommended to use sourceTensor.clone().detach() or sourceTensor.clone().detach().requires_grad_(True), rather than torch.tensor(sourceTensor).\n",
      "  cell = torch.tensor(cell, device=self.device) #.unsqueeze(0)\n"
     ]
    },
    {
     "name": "stdout",
     "output_type": "stream",
     "text": [
      "Episode:  1\n",
      "Episode:  2\n",
      "Episode:  3\n",
      "Episode:  4\n",
      "Episode:  5\n",
      "Episode:  6\n"
     ]
    },
    {
     "ename": "SystemExit",
     "evalue": "",
     "output_type": "error",
     "traceback": [
      "An exception has occurred, use %tb to see the full traceback.\n",
      "\u001b[1;31mSystemExit\u001b[0m\n"
     ]
    },
    {
     "name": "stderr",
     "output_type": "stream",
     "text": [
      "c:\\Users\\Scott\\a3\\lib\\site-packages\\IPython\\core\\interactiveshell.py:3465: UserWarning: To exit: use 'exit', 'quit', or Ctrl-D.\n",
      "  warn(\"To exit: use 'exit', 'quit', or Ctrl-D.\", stacklevel=1)\n"
     ]
    }
   ],
   "source": [
    "env = tiger_deer_v4.env(map_size=map_size, minimap_mode=False, render_mode='human', max_cycles=max_cycles, extra_features=False)\n",
    "example_episodes = 10\n",
    "for e in range(example_episodes):\n",
    "    print(\"Episode: \", e)\n",
    "    env.reset(seed=None)\n",
    "    # Play the game!\n",
    "    agents_prev_data = {}\n",
    "    init_agent = None\n",
    "    for agent in env.agent_iter():\n",
    "        if init_agent is None:\n",
    "            init_agent = agent\n",
    "        else:\n",
    "            if init_agent == agent:\n",
    "                time.sleep(0.01)\n",
    "\n",
    "        observation, reward, termination, truncation, info = env.last()\n",
    "        observation = np.transpose(observation, (2,0,1))\n",
    "        done = termination or truncation\n",
    "        agentType = get_agent_type_from_agent_name(agent)\n",
    "\n",
    "        # instantiate previous data\n",
    "        if agent not in agents_prev_data.keys():\n",
    "            action, actual_action, prev_actual_action = generate_first_action(agentType)\n",
    "            mask_observations(observation, prev_actual_action)\n",
    "            agents_prev_data[agent] = [observation, action, done, actual_action, None, None, reward,  info]\n",
    "            env.step(actual_action)\n",
    "            continue\n",
    "\n",
    "        prev_observation, prev_action, prev_done, prev_actual_action, hidden, cell = agents_prev_data[agent][0:6]\n",
    "        mask_observations(observation, prev_actual_action)\n",
    "\n",
    "        if not done:\n",
    "            if 'tiger' in agentType:\n",
    "                # tiger.cache(prev_observation, observation, prev_action, reward, done, agentName=agent)\n",
    "                action, (hidden, cell) = tiger.act(observation, hidden, cell, activeTiger)\n",
    "                actual_action = tiger_action_mapper(action, prev_actual_action)\n",
    "            else:\n",
    "                # deer.cache(prev_observation, observation, prev_action, reward, done, agentName=agent)\n",
    "                # action =\n",
    "                action, (hidden, cell) = deer.act(observation, hidden, cell, activeDeer)\n",
    "                actual_action = deer_action_mapper(action, prev_actual_action)\n",
    "        else:\n",
    "            action = None\n",
    "            actual_action = None\n",
    "        \n",
    "        agents_prev_data[agent] = [observation, action, done, actual_action, hidden, cell, reward,  info]\n",
    "        env.step(actual_action)\n",
    "    "
   ]
  },
  {
   "cell_type": "code",
   "execution_count": null,
   "metadata": {},
   "outputs": [],
   "source": []
  }
 ],
 "metadata": {
  "kernelspec": {
   "display_name": "base",
   "language": "python",
   "name": "python3"
  },
  "language_info": {
   "codemirror_mode": {
    "name": "ipython",
    "version": 3
   },
   "file_extension": ".py",
   "mimetype": "text/x-python",
   "name": "python",
   "nbconvert_exporter": "python",
   "pygments_lexer": "ipython3",
   "version": "3.9.13"
  },
  "orig_nbformat": 4
 },
 "nbformat": 4,
 "nbformat_minor": 2
}
